{
 "cells": [
  {
   "cell_type": "code",
   "execution_count": 1,
   "metadata": {},
   "outputs": [],
   "source": [
    "#Question 1\n",
    "import gzip\n",
    "from collections import defaultdict\n",
    "\n",
    "def readGz(f):\n",
    "  for l in gzip.open(f):\n",
    "    yield eval(l)\n",
    "    \n",
    "businessCount = defaultdict(int)\n",
    "userinformation = defaultdict(list)\n",
    "userinformation_train = defaultdict(list)\n",
    "userinformation_validation = defaultdict(list)\n",
    "train_set =set()\n",
    "validation_set =set()\n",
    "count = 0\n",
    "train = open(\"train.txt\", 'w')\n",
    "validation =open(\"validation.txt\", 'w')\n",
    "for l in readGz(\"train.json.gz\"):\n",
    "    user,business = l['reviewerID'],l['itemID']\n",
    "    userinformation[user].append(business)\n",
    "    if count < 100000:\n",
    "        user,business = l['reviewerID'],l['itemID']\n",
    "        userinformation_train[user].append(business)\n",
    "        train_set.add(l['reviewerID'] + '-' + l['itemID'])\n",
    "        count = count +1 \n",
    "        train.write(user + '-' + business + \",1\\n\")\n",
    "    else:\n",
    "        user,business = l['reviewerID'],l['itemID']\n",
    "        userinformation_validation[user].append(business)\n",
    "        validation_set.add(l['reviewerID'] + '-' + l['itemID'])\n",
    "        count = count +1 \n",
    "        validation.write(user + '-' + business + \",1\\n\")\n"
   ]
  },
  {
   "cell_type": "code",
   "execution_count": 2,
   "metadata": {},
   "outputs": [
    {
     "name": "stdout",
     "output_type": "stream",
     "text": [
      "100000\n",
      "36402\n"
     ]
    }
   ],
   "source": [
    "print(len(validation_set))\n",
    "print(len(userinformation_validation))"
   ]
  },
  {
   "cell_type": "code",
   "execution_count": 3,
   "metadata": {},
   "outputs": [],
   "source": [
    "import numpy as np\n",
    "import random\n",
    "user_sample = []\n",
    "item_sample = []\n",
    "\n",
    "for l in readGz(\"train.json.gz\"):\n",
    "    user_sample.append(l['reviewerID'])\n",
    "    item_sample.append(l['itemID'])\n"
   ]
  },
  {
   "cell_type": "code",
   "execution_count": 4,
   "metadata": {},
   "outputs": [],
   "source": [
    "\n",
    "random_user_sample =set()\n",
    "random_item_sample =set()\n",
    "for i in range(len(user_sample)):\n",
    "    random_user_sample.add(user_sample[i])\n",
    "    random_item_sample.add(item_sample[i])\n"
   ]
  },
  {
   "cell_type": "code",
   "execution_count": 5,
   "metadata": {},
   "outputs": [],
   "source": [
    "random_user_sample =list(random_user_sample)  \n",
    "random_item_sample =list(random_item_sample)  \n",
    "random.shuffle(random_user_sample)\n",
    "random.shuffle(random_item_sample)\n",
    "count = 0\n",
    "while count <100000 :\n",
    "    pick_user = random.sample(random_user_sample,1)\n",
    "    pick_item = random.sample(random_item_sample,1)\n",
    "    if pick_item[0] not in userinformation_validation[pick_user[0]]:\n",
    "        count += 1\n",
    "        validation.write(pick_user[0] + '-' + pick_item[0] + \",0\\n\")\n",
    "validation.close()\n",
    "train.close()"
   ]
  },
  {
   "cell_type": "code",
   "execution_count": 6,
   "metadata": {},
   "outputs": [],
   "source": [
    "\n",
    "businessCount = defaultdict(int)\n",
    "totalPurchases = 0\n",
    "\n",
    "for l in train_set:\n",
    "    user,business = l.strip().split('-')\n",
    "    businessCount[business] += 1\n",
    "    totalPurchases += 1\n",
    "\n",
    "mostPopular = [(businessCount[x], x) for x in businessCount]\n",
    "mostPopular.sort()\n",
    "mostPopular.reverse()\n",
    "return1 = set()\n",
    "count = 0\n",
    "for ic, i in mostPopular:\n",
    "    count += ic\n",
    "    return1.add(i)\n",
    "    if count > totalPurchases/2: \n",
    "        break\n"
   ]
  },
  {
   "cell_type": "code",
   "execution_count": 7,
   "metadata": {},
   "outputs": [],
   "source": [
    "actul =[]\n",
    "prediction =[]\n",
    "accuracy = []\n",
    "validation_fact = open('validation.txt').readlines()\n",
    "for i in validation_fact:\n",
    "    user,temporary = i.strip().split('-')\n",
    "    item,fact = temporary.strip().split(',')\n",
    "    actul.append(fact)\n",
    "    if item in return1 :\n",
    "        if int(fact) == 1 :\n",
    "            accuracy.append(1)\n",
    "        else :\n",
    "            accuracy.append(0)\n",
    "            prediction.append(1)\n",
    "    else:\n",
    "        if int(fact) == 0 :\n",
    "            accuracy.append(1)\n",
    "        else:\n",
    "            accuracy.append(0)\n",
    "        prediction.append(0)"
   ]
  },
  {
   "cell_type": "code",
   "execution_count": 8,
   "metadata": {},
   "outputs": [
    {
     "data": {
      "text/plain": [
       "0.62902"
      ]
     },
     "execution_count": 8,
     "metadata": {},
     "output_type": "execute_result"
    }
   ],
   "source": [
    "\n",
    "\n",
    "accuracy_rate = sum(accuracy)/len(accuracy)\n",
    "accuracy_rate"
   ]
  },
  {
   "cell_type": "code",
   "execution_count": 9,
   "metadata": {},
   "outputs": [],
   "source": [
    "#So the accuracy_rate is 0.630365.The prediction and actul situation can be seen from the list prediction and list\n"
   ]
  },
  {
   "cell_type": "code",
   "execution_count": 10,
   "metadata": {},
   "outputs": [],
   "source": [
    "#Question 2   set that the ratio is x and try to use a function to find the best value.\n",
    "accuracy_rate_list=[]\n",
    "x =[]\n",
    "for k in range(1,100):\n",
    "    return2 = []\n",
    "    accuracy= []\n",
    "    actul =[]\n",
    "    prediction =[]\n",
    "    x.append(0.3+0.005*k)\n",
    "    return2 = set()\n",
    "    count = 0\n",
    "    for ic, i in mostPopular:\n",
    "        count += ic\n",
    "        return2.add(i)\n",
    "        if count > totalPurchases*x[k-1]: \n",
    "            break\n",
    "    for i in validation_fact:\n",
    "        user,temporary = i.strip().split('-')\n",
    "        item,fact = temporary.strip().split(',')\n",
    "        actul.append(fact)\n",
    "        if item in return2 :\n",
    "            if int(fact) == 1 :\n",
    "                accuracy.append(1)\n",
    "            else :\n",
    "                accuracy.append(0)\n",
    "                prediction.append(1)\n",
    "        else:\n",
    "            if int(fact) == 0 :\n",
    "                accuracy.append(1)\n",
    "            else:\n",
    "                accuracy.append(0)\n",
    "            prediction.append(0)\n",
    "    accuracy_rate_list.append(sum(accuracy)/len(accuracy))\n",
    "\n",
    "    "
   ]
  },
  {
   "cell_type": "code",
   "execution_count": 11,
   "metadata": {},
   "outputs": [],
   "source": [
    "import matplotlib.pyplot as plt\n"
   ]
  },
  {
   "cell_type": "code",
   "execution_count": 12,
   "metadata": {},
   "outputs": [
    {
     "data": {
      "image/png": "[encoded data removed]",
      "text/plain": [
       "<Figure size 432x288 with 1 Axes>"
      ]
     },
     "metadata": {
      "needs_background": "light"
     },
     "output_type": "display_data"
    }
   ],
   "source": [
    "plt.plot(x,accuracy_rate_list)\n",
    "plt.show()"
   ]
  },
  {
   "cell_type": "code",
   "execution_count": 13,
   "metadata": {},
   "outputs": [
    {
     "name": "stdout",
     "output_type": "stream",
     "text": [
      "0.515 0.62968\n"
     ]
    }
   ],
   "source": [
    "number = accuracy_rate_list.index(max(accuracy_rate_list))\n",
    "print(x[number],max(accuracy_rate_list))\n",
    "#so the best split ratio is 0.515 and the best accuracy rate is 0.63087"
   ]
  },
  {
   "cell_type": "code",
   "execution_count": 14,
   "metadata": {},
   "outputs": [],
   "source": [
    "#question 3"
   ]
  },
  {
   "cell_type": "code",
   "execution_count": 15,
   "metadata": {},
   "outputs": [
    {
     "data": {
      "text/plain": [
       "39239"
      ]
     },
     "execution_count": 15,
     "metadata": {},
     "output_type": "execute_result"
    }
   ],
   "source": [
    "cat_sample = []\n",
    "for l in readGz(\"train.json.gz\"):\n",
    "    cat_sample.append(l['categories'])\n",
    "\n",
    "IC_dict = dict(zip(item_sample,cat_sample))\n",
    "UI_dict = userinformation\n",
    "len(UI_dict)"
   ]
  },
  {
   "cell_type": "code",
   "execution_count": 16,
   "metadata": {},
   "outputs": [],
   "source": [
    "accuracy= []\n",
    "actul =[]\n",
    "prediction =[]\n",
    "point = 0\n",
    "for i in validation_fact:\n",
    "    user,temporary = i.strip().split('-')\n",
    "    item,fact = temporary.strip().split(',')\n",
    "    actul.append(fact)\n",
    "    for j in range(0,len(UI_dict[user])):\n",
    "        for k in range(0,len(IC_dict[UI_dict[user][j]])):\n",
    "            for m in range (0,len(IC_dict[item])):\n",
    "                if IC_dict[UI_dict[user][j]][k] == IC_dict[item][m]:\n",
    "                    point = point +1\n",
    "    if point >0 :\n",
    "        point = 0\n",
    "        prediction.append(1)\n",
    "    else:\n",
    "        prediction.append(0)"
   ]
  },
  {
   "cell_type": "code",
   "execution_count": 17,
   "metadata": {},
   "outputs": [
    {
     "data": {
      "text/plain": [
       "0.89972"
      ]
     },
     "execution_count": 17,
     "metadata": {},
     "output_type": "execute_result"
    }
   ],
   "source": [
    "count = 0\n",
    "for i in range(0,len(prediction)):\n",
    "    if prediction[i] == int(actul[i]):\n",
    "        count = count +1\n",
    "accuracy_rate = count/len(prediction)\n",
    "accuracy_rate\n",
    "#so accuracy is 0.59397"
   ]
  },
  {
   "cell_type": "code",
   "execution_count": 18,
   "metadata": {},
   "outputs": [],
   "source": [
    "# Question 4(old method,bad)\n",
    "\n",
    "test = open(\"pairs_Purchase.txt\",\"r\").readlines()\n",
    "test = test[1:]\n",
    "test = [i.strip() for i in test]\n",
    "prediction = []\n",
    "point = 0\n",
    "  \n",
    "for i in test:\n",
    "    user,item = i.strip().split('-')\n",
    "    for j in range(0,len(UI_dict[user])):\n",
    "        try:\n",
    "            for k in range(0,len(IC_dict[UI_dict[user][j]])):\n",
    "                for m in range (0,len(IC_dict[item])):\n",
    "                    if IC_dict[UI_dict[user][j]][k] == IC_dict[item][m]:\n",
    "                        point = point +1\n",
    "        except:\n",
    "            continue\n",
    "    if point >0 :\n",
    "        point = 0\n",
    "        prediction.append(1)\n",
    "    else:\n",
    "        prediction.append(0)\n",
    "#Kaggle name Troy Peng "
   ]
  },
  {
   "cell_type": "code",
   "execution_count": 19,
   "metadata": {},
   "outputs": [],
   "source": [
    "#New method to solve problem 3 and problem 4\n",
    "dict2 = {}\n",
    "list2 =set()\n",
    "for item in IC_dict:\n",
    "    for i in range(0,len(IC_dict[item])):\n",
    "        for k in range (0,len(IC_dict[item][i])):\n",
    "            if len(IC_dict[item][i][k]) > 0:\n",
    "                    dict2[IC_dict[item][i][k]] = 0\n",
    "for item in IC_dict:\n",
    "    for i in range(0,len(IC_dict[item])):\n",
    "        for k in range (0,len(IC_dict[item][i])):\n",
    "            if len(IC_dict[item][i][k]) > 0:\n",
    "                    dict2[IC_dict[item][i][k]] += 1            \n",
    "    \n"
   ]
  },
  {
   "cell_type": "code",
   "execution_count": 20,
   "metadata": {},
   "outputs": [],
   "source": [
    "dict4 = sorted(dict2.items(),key = lambda x:x[1],reverse = True)\n",
    "list_high = []\n",
    "list_medium = []\n",
    "list_low = []\n",
    "for i in range(20):\n",
    "    list_high.append(dict4[i][0])\n",
    "for i in range(20,50):\n",
    "    list_medium.append(dict4[i][0])\n",
    "for i in range(50,len(dict4)):\n",
    "    list_low.append(dict4[i][0])"
   ]
  },
  {
   "cell_type": "code",
   "execution_count": 21,
   "metadata": {},
   "outputs": [],
   "source": [
    "dict3 ={}\n",
    "for i in dict2 :\n",
    "    if dict2[i] > 100 :\n",
    "        dict3[i] = dict2[i]\n"
   ]
  },
  {
   "cell_type": "code",
   "execution_count": 22,
   "metadata": {},
   "outputs": [],
   "source": [
    "dict1 = {}\n",
    "list1 =set()\n",
    "for item in IC_dict:\n",
    "    for i in range(0,len(IC_dict[item])):\n",
    "        for k in range (0,len(IC_dict[item][i])):\n",
    "            if len(IC_dict[item][i][k]) > 1:\n",
    "                    list1.add(IC_dict[item][i][k]) \n",
    "    dict1[item] = list1\n",
    "    list1 =set()"
   ]
  },
  {
   "cell_type": "code",
   "execution_count": null,
   "metadata": {},
   "outputs": [],
   "source": []
  },
  {
   "cell_type": "code",
   "execution_count": null,
   "metadata": {},
   "outputs": [],
   "source": [
    "count = 0\n",
    "accuracy= []\n",
    "actul =[]\n",
    "prediction =[]\n",
    "for i in validation_fact:\n",
    "    user,temporary = i.strip().split('-')\n",
    "    item,fact = temporary.strip().split(',')\n",
    "    actul.append(fact)\n",
    "    for j in range(0,len(UI_dict[user])):\n",
    "        try:\n",
    "            for k in range(0,len(IC_dict[UI_dict[user][j]])):\n",
    "                a = dict1[UI_dict[user][j]]\n",
    "                b = dict1[item]\n",
    "                cob = a&b\n",
    "                for d in range(len(cob)):\n",
    "                    if cob[d] in list_high:\n",
    "                        count += 0.25\n",
    "                    if cob[d] in list_medium:\n",
    "                        count += 0.5\n",
    "                    if cob[d] in list_low:\n",
    "                        count += 1\n",
    "                    c\n",
    "                print(count)\n",
    "        except:\n",
    "            continue\n",
    "    if count >3  :\n",
    "        count = 0\n",
    "        prediction.append(1)\n",
    "    else:\n",
    "        prediction.append(0)\n",
    "count = 0\n",
    "for i in range(0,len(prediction)):\n",
    "    if prediction[i] == int(actul[i]):\n",
    "        count = count +1\n",
    "accuracy_rate = count/len(prediction)\n",
    "accuracy_rate\n",
    "# Question 3(new method,better accuracy,0.63532)"
   ]
  },
  {
   "cell_type": "code",
   "execution_count": 62,
   "metadata": {},
   "outputs": [],
   "source": [
    "# Question 4(new method,better accuracy in test set,kaggle name Troy Peng accuracy : 0.63928\n",
    "prediction =[]\n",
    "for i in test:\n",
    "    user,item = i.strip().split('-')\n",
    "    for j in range(0,len(UI_dict[user])):\n",
    "        try:\n",
    "            for k in range(0,len(IC_dict[UI_dict[user][j]])):\n",
    "                a = dict1[UI_dict[user][j]]\n",
    "                b = dict1[item]\n",
    "                cob = a&b\n",
    "                if len(cob)>= 2:\n",
    "                    count = 1 + count\n",
    "                    cob = []\n",
    "                else :\n",
    "                    cob =[]\n",
    "        except:\n",
    "            continue\n",
    "    if count >0 :\n",
    "        count = 0\n",
    "        prediction.append(1)\n",
    "    else:\n",
    "        prediction.append(0)"
   ]
  },
  {
   "cell_type": "code",
   "execution_count": 63,
   "metadata": {},
   "outputs": [],
   "source": [
    "import csv\n",
    "\n",
    "with open('prediction_new.csv', 'w') as csv_file:\n",
    "    csv_write = csv.writer(csv_file)\n",
    "    for a in prediction:\n",
    "        csv_write.writerow(str(a))\n",
    "\n"
   ]
  },
  {
   "cell_type": "code",
   "execution_count": null,
   "metadata": {},
   "outputs": [],
   "source": [
    "if 'Novelty' != IC_dict[item][i][k] and 'Clothing' != IC_dict[item][i][k] and 'Shoe' != IC_dict[item][i][k] and 'XOXO' != IC_dict[item][i][k] and 'Shoes' !=IC_dict[item][i][k] :\n",
    "                    list1.add(IC_dict[item][i][k])\n",
    "    dict1[item] = list1\n",
    "    list1 =set()"
   ]
  },
  {
   "cell_type": "code",
   "execution_count": null,
   "metadata": {},
   "outputs": [],
   "source": []
  }
 ],
 "metadata": {
  "kernelspec": {
   "display_name": "Python 3",
   "language": "python",
   "name": "python3"
  },
  "language_info": {
   "codemirror_mode": {
    "name": "ipython",
    "version": 3
   },
   "file_extension": ".py",
   "mimetype": "text/x-python",
   "name": "python",
   "nbconvert_exporter": "python",
   "pygments_lexer": "ipython3",
   "version": "3.6.6"
  }
 },
 "nbformat": 4,
 "nbformat_minor": 2
}
