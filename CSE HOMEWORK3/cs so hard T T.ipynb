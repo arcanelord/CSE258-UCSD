{
 "cells": [
  {
   "cell_type": "code",
   "execution_count": 1,
   "metadata": {},
   "outputs": [],
   "source": [
    "## Question 1\n",
    "import gzip\n",
    "from collections import defaultdict\n",
    "\n",
    "def readGz(f):\n",
    "  for l in gzip.open(f):\n",
    "    yield eval(l)\n",
    "    \n",
    "businessCount = defaultdict(int)\n",
    "userinformation = defaultdict(list)\n",
    "userinformation_train = defaultdict(list)\n",
    "userinformation_validation = defaultdict(list)\n",
    "train_set =set()\n",
    "validation_set =set()\n",
    "whole_set = set()\n",
    "count = 0\n",
    "train = open(\"train.txt\", 'w')\n",
    "validation =open(\"validation.txt\", 'w')\n",
    "for l in readGz(\"train.json.gz\"):\n",
    "    user,business = l['reviewerID'],l['itemID']\n",
    "    userinformation[user].append(business)\n",
    "    whole_set.add(l['reviewerID'] + '-' + l['itemID'])\n",
    "    if count < 100000:\n",
    "        user,business = l['reviewerID'],l['itemID']\n",
    "        userinformation_train[user].append(business)\n",
    "        train_set.add(l['reviewerID'] + '-' + l['itemID'])\n",
    "        count = count +1 \n",
    "        train.write(user + '-' + business + \",1\\n\")\n",
    "    else:\n",
    "        user,business = l['reviewerID'],l['itemID']\n",
    "        userinformation_validation[user].append(business)\n",
    "        validation_set.add(l['reviewerID'] + '-' + l['itemID'])\n",
    "        count = count +1 \n",
    "        validation.write(user + '-' + business + \",1\\n\")\n"
   ]
  },
  {
   "cell_type": "code",
   "execution_count": 2,
   "metadata": {},
   "outputs": [
    {
     "name": "stdout",
     "output_type": "stream",
     "text": [
      "100000\n",
      "36402\n"
     ]
    }
   ],
   "source": [
    "print(len(validation_set))\n",
    "print(len(userinformation_validation))"
   ]
  },
  {
   "cell_type": "code",
   "execution_count": 3,
   "metadata": {},
   "outputs": [],
   "source": [
    "import numpy as np\n",
    "import random\n",
    "user_sample = []\n",
    "item_sample = []\n",
    "\n",
    "for l in readGz(\"train.json.gz\"):\n",
    "    user_sample.append(l['reviewerID'])\n",
    "    item_sample.append(l['itemID'])\n"
   ]
  },
  {
   "cell_type": "code",
   "execution_count": 4,
   "metadata": {},
   "outputs": [],
   "source": [
    "\n",
    "random_user_sample =set()\n",
    "random_item_sample =set()\n",
    "for i in range(len(user_sample)):\n",
    "    random_user_sample.add(user_sample[i])\n",
    "    random_item_sample.add(item_sample[i])\n"
   ]
  },
  {
   "cell_type": "code",
   "execution_count": 5,
   "metadata": {},
   "outputs": [],
   "source": [
    "random_user_sample =list(random_user_sample)  \n",
    "random_item_sample =list(random_item_sample)  \n",
    "random.shuffle(random_user_sample)\n",
    "random.shuffle(random_item_sample)\n",
    "count = 0\n",
    "while count <100000 :\n",
    "    pick_user = random.sample(random_user_sample,1)\n",
    "    pick_item = random.sample(random_item_sample,1)\n",
    "    if pick_item[0] not in userinformation_validation[pick_user[0]]:\n",
    "        count += 1\n",
    "        validation.write(pick_user[0] + '-' + pick_item[0] + \",0\\n\")\n",
    "validation.close()\n",
    "train.close()"
   ]
  },
  {
   "cell_type": "code",
   "execution_count": 6,
   "metadata": {},
   "outputs": [],
   "source": [
    "\n",
    "businessCount = defaultdict(int)\n",
    "totalPurchases = 0\n",
    "\n",
    "for l in whole_set:\n",
    "    user,business = l.strip().split('-')\n",
    "    businessCount[business] += 1\n",
    "    totalPurchases += 1\n",
    "\n",
    "mostPopular = [(businessCount[x], x) for x in businessCount]\n",
    "mostPopular.sort()\n",
    "mostPopular.reverse()\n",
    "return1 = set()\n",
    "count = 0\n",
    "for ic, i in mostPopular:\n",
    "    count += ic\n",
    "    return1.add(i)\n",
    "    if count > totalPurchases*0.515: \n",
    "        break\n"
   ]
  },
  {
   "cell_type": "code",
   "execution_count": 7,
   "metadata": {},
   "outputs": [
    {
     "data": {
      "text/plain": [
       "4189"
      ]
     },
     "execution_count": 7,
     "metadata": {},
     "output_type": "execute_result"
    }
   ],
   "source": [
    "len(return1)"
   ]
  },
  {
   "cell_type": "code",
   "execution_count": 8,
   "metadata": {},
   "outputs": [],
   "source": [
    "actul =[]\n",
    "prediction =[]\n",
    "accuracy = []\n",
    "validation_fact = open('validation.txt').readlines()\n",
    "for i in validation_fact:\n",
    "    user,temporary = i.strip().split('-')\n",
    "    item,fact = temporary.strip().split(',')\n",
    "    actul.append(fact)\n",
    "    if item in return1 :\n",
    "        if int(fact) == 1 :\n",
    "            accuracy.append(1)\n",
    "        else :\n",
    "            accuracy.append(0)\n",
    "            prediction.append(1)\n",
    "    else:\n",
    "        if int(fact) == 0 :\n",
    "            accuracy.append(1)\n",
    "        else:\n",
    "            accuracy.append(0)\n",
    "        prediction.append(0)"
   ]
  },
  {
   "cell_type": "code",
   "execution_count": 9,
   "metadata": {},
   "outputs": [
    {
     "data": {
      "text/plain": [
       "0.650725"
      ]
     },
     "execution_count": 9,
     "metadata": {},
     "output_type": "execute_result"
    }
   ],
   "source": [
    "\n",
    "\n",
    "accuracy_rate = sum(accuracy)/len(accuracy)\n",
    "accuracy_rate"
   ]
  },
  {
   "cell_type": "code",
   "execution_count": 10,
   "metadata": {},
   "outputs": [],
   "source": [
    "#So the accuracy_rate is 0.630365.The prediction and actul situation can be seen from the list prediction and list\n"
   ]
  },
  {
   "cell_type": "code",
   "execution_count": 11,
   "metadata": {},
   "outputs": [],
   "source": [
    "#question 3"
   ]
  },
  {
   "cell_type": "code",
   "execution_count": 12,
   "metadata": {},
   "outputs": [],
   "source": [
    "cat_sample = []\n",
    "cat_rate =[]\n",
    "for l in readGz(\"train.json.gz\"):\n",
    "    cat_sample.append(l['categories'])\n",
    "    cat_rate.append(l['rating'])\n",
    "IC_dict = dict(zip(item_sample,cat_sample))\n",
    "UI_dict = userinformation"
   ]
  },
  {
   "cell_type": "code",
   "execution_count": 13,
   "metadata": {},
   "outputs": [],
   "source": [
    "dict3 ={}\n",
    "list3 = set()\n",
    "for i in range(len(cat_sample)):\n",
    "    for j in range(len(cat_sample[i])):\n",
    "        for k in range(len(cat_sample[i][j])):\n",
    "            list3.add(cat_sample[i][j][k])\n",
    "    dict3[i] = list3\n",
    "    list3 = set()"
   ]
  },
  {
   "cell_type": "code",
   "execution_count": 14,
   "metadata": {},
   "outputs": [],
   "source": [
    "\n",
    "dict3 ={}\n",
    "list3 = set()\n",
    "for i in range(len(cat_sample)):\n",
    "    for j in range(len(cat_sample[i])):\n",
    "        for k in range(len(cat_sample[i][j])):\n",
    "            list3.add(cat_sample[i][j][k])\n",
    "    dict3[i] = list3\n",
    "    list3 = set()\n",
    "dict2 = {}\n",
    "list2 =set()\n",
    "for item in IC_dict:\n",
    "    for i in range(0,len(IC_dict[item])):\n",
    "        for k in range (0,len(IC_dict[item][i])):\n",
    "            if len(IC_dict[item][i][k]) > 0:\n",
    "                dict2[IC_dict[item][i][k]] = 0\n",
    "for item in IC_dict:\n",
    "    for i in range(0,len(IC_dict[item])):\n",
    "        for k in range (0,len(IC_dict[item][i])):\n",
    "            if len(IC_dict[item][i][k]) > 0:\n",
    "                dict2[IC_dict[item][i][k]] += 1      \n",
    "\n",
    "CR_dict= []\n",
    "dict4 ={}\n",
    "dict5={}\n",
    "for k in dict2:\n",
    "    dict4[k]= 0\n",
    "    dict5[k]=0\n",
    "for i in range(200000):\n",
    "    CR_dict.append(cat_rate[i])\n",
    "    CR_dict.append(dict3[i])\n",
    "for i in range(200000):\n",
    "    k = 2*i\n",
    "    m = k+1\n",
    "    for j in range(len(CR_dict[m])):\n",
    "        list_object = list(CR_dict[m])\n",
    "        dict5[list_object[j]] +=1\n",
    "        dict4[list_object[j]] +=CR_dict[k]\n",
    "for k in dict4:\n",
    "    dict4[k] = dict4[k]/dict5[k]"
   ]
  },
  {
   "cell_type": "code",
   "execution_count": 15,
   "metadata": {},
   "outputs": [],
   "source": [
    "#New method to solve problem 3 and problem 4\n",
    "dict2 = {}\n",
    "list2 =set()\n",
    "for item in IC_dict:\n",
    "    for i in range(0,len(IC_dict[item])):\n",
    "        for k in range (0,len(IC_dict[item][i])):\n",
    "            if len(IC_dict[item][i][k]) > 0:\n",
    "                dict2[IC_dict[item][i][k]] = 0\n",
    "for item in IC_dict:\n",
    "    for i in range(0,len(IC_dict[item])):\n",
    "        for k in range (0,len(IC_dict[item][i])):\n",
    "            if len(IC_dict[item][i][k]) > 0:\n",
    "                dict2[IC_dict[item][i][k]] += 1            \n",
    "    "
   ]
  },
  {
   "cell_type": "code",
   "execution_count": 16,
   "metadata": {},
   "outputs": [],
   "source": [
    "dict1 = {}\n",
    "list1 =set()\n",
    "for item in IC_dict:\n",
    "    for i in range(0,len(IC_dict[item])):\n",
    "        for k in range (0,len(IC_dict[item][i])):\n",
    "                list1.add(IC_dict[item][i][k]) \n",
    "    dict1[item] = list1\n",
    "    list1 =set()"
   ]
  },
  {
   "cell_type": "code",
   "execution_count": 17,
   "metadata": {},
   "outputs": [],
   "source": [
    "for i in validation_fact:\n",
    "        user,temporary = i.strip().split('-')\n",
    "        item,fact = temporary.strip().split(',')\n",
    "        actul.append(fact)\n",
    "dict4 = sorted(dict2.items(),key = lambda x:x[1],reverse = True)\n",
    "list_high = []\n",
    "list_medium = []\n",
    "list_low = []\n",
    "for i in range(20):\n",
    "    list_high.append(dict4[i][0])\n",
    "for i in range(20,50):\n",
    "    list_medium.append(dict4[i][0])\n",
    "for i in range(50,len(dict4)):\n",
    "    list_low.append(dict4[i][0])"
   ]
  },
  {
   "cell_type": "code",
   "execution_count": 18,
   "metadata": {},
   "outputs": [],
   "source": [
    "def cosine_similarity(vector1, vector2):\n",
    "    try:\n",
    "        m = np.array(vector1).T\n",
    "        n = np.array(vector2).T\n",
    "        p= sum(m*n)\n",
    "        k = (sum(m*m)**0.5)*(sum(n*n)**0.5)\n",
    "        return p/k\n",
    "    except:\n",
    "        return 0\n",
    "from numpy import argmax\n",
    "whole_list = []\n",
    "for i in dict2:\n",
    "    whole_list.append(i)"
   ]
  },
  {
   "cell_type": "code",
   "execution_count": 17,
   "metadata": {},
   "outputs": [
    {
     "data": {
      "text/plain": [
       "set"
      ]
     },
     "execution_count": 17,
     "metadata": {},
     "output_type": "execute_result"
    }
   ],
   "source": [
    "type(dict1['I402344648'])"
   ]
  },
  {
   "cell_type": "code",
   "execution_count": null,
   "metadata": {},
   "outputs": [
    {
     "name": "stderr",
     "output_type": "stream",
     "text": [
      "C:\\Users\\pengg\\Anaconda3\\lib\\site-packages\\ipykernel_launcher.py:49: DeprecationWarning: The truth value of an empty array is ambiguous. Returning False, but in future this will result in an error. Use `array.size > 0` to check that an array is not empty.\n"
     ]
    }
   ],
   "source": [
    "    count = 0\n",
    "    accuracy= []\n",
    "    prediction =[]\n",
    "    cob_list = []\n",
    "    count2 =0\n",
    "    count2_list = []\n",
    "    item_list = set()\n",
    "    cosine = 0\n",
    "    a =set()\n",
    "    for i in validation_fact:\n",
    "        user,temporary = i.strip().split('-')\n",
    "        item,fact = temporary.strip().split(',')\n",
    "        data1 = dict1[item]\n",
    "        onehot_encoded_testitem=[]\n",
    "        char_to_int_testitem = dict((cc, ii) for ii, cc in enumerate(whole_list))\n",
    "        int_to_char_testitem = dict((ii, cc) for ii, cc in enumerate(whole_list))\n",
    "        integer_encoded_testitem = [char_to_int_testitem[char] for char in data1]\n",
    "        onehot_encoded_testitem = list()\n",
    "        letter_testitem = [0 for _ in range(len(whole_list))]\n",
    "        for value in integer_encoded_testitem:\n",
    "            letter_testitem[value] = 1\n",
    "        onehot_encoded_testitem.append(letter_testitem)\n",
    "        judgement2 =0\n",
    "        for j in range(0,len(UI_dict[user])):\n",
    "            try:\n",
    "                for k in range(0,len(IC_dict[UI_dict[user][j]])):\n",
    "                    a = dict1[UI_dict[user][j]]\n",
    "                    data2 = a\n",
    "                    a = set()\n",
    "                    onehot_encoded_test=[]\n",
    "                    char_to_int_test = dict((cc, ii) for ii, cc in enumerate(whole_list))\n",
    "                    int_to_char_test = dict((ii, cc) for ii, cc in enumerate(whole_list))\n",
    "                    integer_encoded_test = [char_to_int_test[char] for char in data2]\n",
    "                    onehot_encoded_test = list()\n",
    "                    letter_test = [0 for _ in range(len(whole_list))]\n",
    "                    for value in integer_encoded_test:\n",
    "                        letter_test[value] = 1\n",
    "                    onehot_encoded_test.append(letter_test)\n",
    "                    judgement = 1\n",
    "            except:\n",
    "                judgement = 0\n",
    "                continue\n",
    "            if judgement == 0:\n",
    "                judgement2 = judgement2\n",
    "            else:\n",
    "                cosine=cosine_similarity(onehot_encoded_test,onehot_encoded_testitem)\n",
    "                onehot_encoded_test=[]\n",
    "                onehot_encoded_testitem=[]\n",
    "                if cosine >= 0.5:\n",
    "                    judgement2 += 1\n",
    "                else:\n",
    "                    judgement2 += 0\n",
    "        if judgement2 == 0:\n",
    "            prediction.append(0)\n",
    "        else:\n",
    "            prediction.append(1)\n",
    "    count = 0\n",
    "    for i in range(0,len(prediction)):\n",
    "        if prediction[i] == int(actul[i]):\n",
    "            count = count +1\n",
    "    accuracy_rate = count/len(prediction)\n",
    "    print('acc',accuracy_rate)\n",
    "    # Question 3(new method,better accuracy,0.63532)"
   ]
  },
  {
   "cell_type": "code",
   "execution_count": 25,
   "metadata": {},
   "outputs": [
    {
     "data": {
      "text/plain": [
       "45041"
      ]
     },
     "execution_count": 25,
     "metadata": {},
     "output_type": "execute_result"
    }
   ],
   "source": []
  },
  {
   "cell_type": "code",
   "execution_count": 19,
   "metadata": {},
   "outputs": [
    {
     "name": "stderr",
     "output_type": "stream",
     "text": [
      "C:\\Users\\pengg\\Anaconda3\\lib\\site-packages\\ipykernel_launcher.py:48: DeprecationWarning: The truth value of an empty array is ambiguous. Returning False, but in future this will result in an error. Use `array.size > 0` to check that an array is not empty.\n"
     ]
    },
    {
     "name": "stdout",
     "output_type": "stream",
     "text": [
      "1000\n",
      "2000\n",
      "3000\n",
      "4000\n",
      "5000\n",
      "6000\n",
      "7000\n",
      "8000\n",
      "9000\n",
      "10000\n",
      "11000\n",
      "12000\n",
      "13000\n",
      "14000\n",
      "15000\n",
      "16000\n",
      "17000\n",
      "18000\n",
      "19000\n",
      "20000\n",
      "21000\n",
      "22000\n",
      "23000\n",
      "24000\n",
      "25000\n",
      "26000\n",
      "27000\n"
     ]
    },
    {
     "data": {
      "text/plain": [
       "13466"
      ]
     },
     "execution_count": 19,
     "metadata": {},
     "output_type": "execute_result"
    }
   ],
   "source": [
    "    printout = [i*1000 for i in range(1,28)]\n",
    "    test = open(\"pairs_Purchase.txt\",\"r\").readlines()\n",
    "    test = test[1:]\n",
    "    test = [i.strip() for i in test]\n",
    "    prediction = []\n",
    "    accuracy= []\n",
    "    prediction =[]\n",
    "    cob_list = []\n",
    "    count2 =0\n",
    "    count2_list = []\n",
    "    for i in test:\n",
    "        try:\n",
    "            user,item = i.strip().split('-')\n",
    "            data1 = dict1[item]\n",
    "            onehot_encoded_testitem=[]\n",
    "            char_to_int_testitem = dict((cc, ii) for ii, cc in enumerate(whole_list))\n",
    "            int_to_char_testitem = dict((ii, cc) for ii, cc in enumerate(whole_list))\n",
    "            integer_encoded_testitem = [char_to_int_testitem[char] for char in data1]\n",
    "            onehot_encoded_testitem = list()\n",
    "            letter_testitem = [0 for _ in range(len(whole_list))]\n",
    "            for value in integer_encoded_testitem:\n",
    "                letter_testitem[value] = 1\n",
    "            onehot_encoded_testitem.append(letter_testitem)\n",
    "            judgement2 =0\n",
    "            for j in range(0,len(UI_dict[user])):\n",
    "                try:\n",
    "                    a = dict1[UI_dict[user][j]]\n",
    "                    data2 = a\n",
    "                    a = set()\n",
    "                    onehot_encoded_test=[]\n",
    "                    char_to_int_test = dict((cc, ii) for ii, cc in enumerate(whole_list))\n",
    "                    int_to_char_test = dict((ii, cc) for ii, cc in enumerate(whole_list))\n",
    "                    integer_encoded_test = [char_to_int_test[char] for char in data2]\n",
    "                    onehot_encoded_test = list()\n",
    "                    letter_test = [0 for _ in range(len(whole_list))]\n",
    "                    for value in integer_encoded_test:\n",
    "                        letter_test[value] = 1\n",
    "                    onehot_encoded_test.append(letter_test)\n",
    "                    judgement = 1\n",
    "                except:\n",
    "                    judgement = 0\n",
    "                if judgement == 0:\n",
    "                    judgement2 = judgement2\n",
    "                else:\n",
    "                    cosine=cosine_similarity(onehot_encoded_test,onehot_encoded_testitem)\n",
    "                    onehot_encoded_test=[]\n",
    "                    onehot_encoded_testitem=[]\n",
    "                    if cosine >= 0.5:\n",
    "                        judgement2 += 1\n",
    "                    else:\n",
    "                        judgement2 += 0\n",
    "        except:\n",
    "            judgement2 = 0\n",
    "        if judgement2 == 0:\n",
    "            if item in return1:\n",
    "                prediction.append(1)\n",
    "            else:\n",
    "                prediction.append(0)\n",
    "        else:\n",
    "            prediction.append(1)\n",
    "        number = len(prediction)\n",
    "        if number in printout:\n",
    "            print(number)\n",
    "sum(prediction)\n"
   ]
  },
  {
   "cell_type": "code",
   "execution_count": 23,
   "metadata": {},
   "outputs": [
    {
     "data": {
      "text/plain": [
       "28000"
      ]
     },
     "execution_count": 23,
     "metadata": {},
     "output_type": "execute_result"
    }
   ],
   "source": [
    "len(prediction)"
   ]
  },
  {
   "cell_type": "code",
   "execution_count": 24,
   "metadata": {},
   "outputs": [],
   "source": [
    "import csv\n",
    "with open('prediction_111.csv', 'w') as csv_file:\n",
    "    csv_write = csv.writer(csv_file)\n",
    "    for a in prediction:\n",
    "        csv_write.writerow(str(a))\n"
   ]
  },
  {
   "cell_type": "code",
   "execution_count": 21,
   "metadata": {},
   "outputs": [
    {
     "ename": "IndentationError",
     "evalue": "unindent does not match any outer indentation level (<ipython-input-21-742cbe80e883>, line 3)",
     "output_type": "error",
     "traceback": [
      "\u001b[1;36m  File \u001b[1;32m\"<ipython-input-21-742cbe80e883>\"\u001b[1;36m, line \u001b[1;32m3\u001b[0m\n\u001b[1;33m    dict1[item] = list1\u001b[0m\n\u001b[1;37m                       ^\u001b[0m\n\u001b[1;31mIndentationError\u001b[0m\u001b[1;31m:\u001b[0m unindent does not match any outer indentation level\n"
     ]
    }
   ],
   "source": [
    "if 'Novelty' != IC_dict[item][i][k] and 'Clothing' != IC_dict[item][i][k] and 'Shoe' != IC_dict[item][i][k] and 'XOXO' != IC_dict[item][i][k] and 'Shoes' !=IC_dict[item][i][k] :\n",
    "                    list1.add(IC_dict[item][i][k])\n",
    "    dict1[item] = list1\n",
    "    list1 =set()"
   ]
  },
  {
   "cell_type": "code",
   "execution_count": null,
   "metadata": {},
   "outputs": [],
   "source": [
    "\n"
   ]
  },
  {
   "cell_type": "code",
   "execution_count": null,
   "metadata": {},
   "outputs": [],
   "source": []
  }
 ],
 "metadata": {
  "kernelspec": {
   "display_name": "Python 3",
   "language": "python",
   "name": "python3"
  },
  "language_info": {
   "codemirror_mode": {
    "name": "ipython",
    "version": 3
   },
   "file_extension": ".py",
   "mimetype": "text/x-python",
   "name": "python",
   "nbconvert_exporter": "python",
   "pygments_lexer": "ipython3",
   "version": "3.6.6"
  }
 },
 "nbformat": 4,
 "nbformat_minor": 2
}
