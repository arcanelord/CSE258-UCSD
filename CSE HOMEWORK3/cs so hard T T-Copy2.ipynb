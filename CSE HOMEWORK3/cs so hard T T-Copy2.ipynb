{
 "cells": [
  {
   "cell_type": "code",
   "execution_count": 1,
   "metadata": {},
   "outputs": [],
   "source": [
    "#Question 1\n",
    "import gzip\n",
    "from collections import defaultdict\n",
    "\n",
    "def readGz(f):\n",
    "  for l in gzip.open(f):\n",
    "    yield eval(l)\n",
    "    \n",
    "businessCount = defaultdict(int)\n",
    "userinformation = defaultdict(list)\n",
    "userinformation_train = defaultdict(list)\n",
    "userinformation_validation = defaultdict(list)\n",
    "train_set =set()\n",
    "validation_set =set()\n",
    "all_set=set()\n",
    "count = 0\n",
    "train = open(\"train.txt\", 'w')\n",
    "validation =open(\"validation.txt\", 'w')\n",
    "for l in readGz(\"train.json.gz\"):\n",
    "    user,business = l['reviewerID'],l['itemID']\n",
    "    userinformation[user].append(business)\n",
    "    all_set.add(l['reviewerID'] + '-' + l['itemID'])\n",
    "    if count < 100000:\n",
    "        user,business = l['reviewerID'],l['itemID']\n",
    "        userinformation_train[user].append(business)\n",
    "        train_set.add(l['reviewerID'] + '-' + l['itemID'])\n",
    "        count = count +1 \n",
    "        train.write(user + '-' + business + \",1\\n\")\n",
    "    else:\n",
    "        user,business = l['reviewerID'],l['itemID']\n",
    "        userinformation_validation[user].append(business)\n",
    "        validation_set.add(l['reviewerID'] + '-' + l['itemID'])\n",
    "        count = count +1 \n",
    "        validation.write(user + '-' + business + \",1\\n\")\n"
   ]
  },
  {
   "cell_type": "code",
   "execution_count": 2,
   "metadata": {},
   "outputs": [
    {
     "name": "stdout",
     "output_type": "stream",
     "text": [
      "100000\n",
      "36402\n"
     ]
    }
   ],
   "source": [
    "print(len(validation_set))\n",
    "print(len(userinformation_validation))"
   ]
  },
  {
   "cell_type": "code",
   "execution_count": 3,
   "metadata": {},
   "outputs": [],
   "source": [
    "import numpy as np\n",
    "import random\n",
    "user_sample = []\n",
    "item_sample = []\n",
    "\n",
    "for l in readGz(\"train.json.gz\"):\n",
    "    user_sample.append(l['reviewerID'])\n",
    "    item_sample.append(l['itemID'])\n"
   ]
  },
  {
   "cell_type": "code",
   "execution_count": 4,
   "metadata": {},
   "outputs": [],
   "source": [
    "\n",
    "random_user_sample =set()\n",
    "random_item_sample =set()\n",
    "for i in range(len(user_sample)):\n",
    "    random_user_sample.add(user_sample[i])\n",
    "    random_item_sample.add(item_sample[i])\n"
   ]
  },
  {
   "cell_type": "code",
   "execution_count": 5,
   "metadata": {},
   "outputs": [],
   "source": [
    "random_user_sample =list(random_user_sample)  \n",
    "random_item_sample =list(random_item_sample)  \n",
    "random.shuffle(random_user_sample)\n",
    "random.shuffle(random_item_sample)\n",
    "count = 0\n",
    "while count <100000 :\n",
    "    pick_user = random.sample(random_user_sample,1)\n",
    "    pick_item = random.sample(random_item_sample,1)\n",
    "    if pick_item[0] not in userinformation_validation[pick_user[0]]:\n",
    "        count += 1\n",
    "        validation.write(pick_user[0] + '-' + pick_item[0] + \",0\\n\")\n",
    "validation.close()\n",
    "train.close()"
   ]
  },
  {
   "cell_type": "code",
   "execution_count": 6,
   "metadata": {},
   "outputs": [],
   "source": [
    "\n",
    "businessCount = defaultdict(int)\n",
    "totalPurchases = 0\n",
    "\n",
    "for l in all_set:\n",
    "    user,business = l.strip().split('-')\n",
    "    businessCount[business] += 1\n",
    "    totalPurchases += 1\n",
    "\n",
    "mostPopular = [(businessCount[x], x) for x in businessCount]\n",
    "mostPopular.sort()\n",
    "mostPopular.reverse()\n",
    "return1 = set()\n",
    "count = 0\n",
    "for ic, i in mostPopular:\n",
    "    count += ic\n",
    "    return1.add(i)\n",
    "    if count > totalPurchases*0.515: \n",
    "        break\n"
   ]
  },
  {
   "cell_type": "code",
   "execution_count": 7,
   "metadata": {},
   "outputs": [],
   "source": [
    "actul =[]\n",
    "prediction =[]\n",
    "accuracy = []\n",
    "validation_fact = open('validation.txt').readlines()\n",
    "for i in validation_fact:\n",
    "    user,temporary = i.strip().split('-')\n",
    "    item,fact = temporary.strip().split(',')\n",
    "    actul.append(fact)\n",
    "    if item in return1 :\n",
    "        if int(fact) == 1 :\n",
    "            accuracy.append(1)\n",
    "        else :\n",
    "            accuracy.append(0)\n",
    "            prediction.append(1)\n",
    "    else:\n",
    "        if int(fact) == 0 :\n",
    "            accuracy.append(1)\n",
    "        else:\n",
    "            accuracy.append(0)\n",
    "        prediction.append(0)"
   ]
  },
  {
   "cell_type": "code",
   "execution_count": 8,
   "metadata": {},
   "outputs": [
    {
     "data": {
      "text/plain": [
       "0.652115"
      ]
     },
     "execution_count": 8,
     "metadata": {},
     "output_type": "execute_result"
    }
   ],
   "source": [
    "\n",
    "\n",
    "accuracy_rate = sum(accuracy)/len(accuracy)\n",
    "accuracy_rate"
   ]
  },
  {
   "cell_type": "code",
   "execution_count": 9,
   "metadata": {},
   "outputs": [],
   "source": [
    "#So the accuracy_rate is 0.630365.The prediction and actul situation can be seen from the list prediction and list\n"
   ]
  },
  {
   "cell_type": "code",
   "execution_count": 10,
   "metadata": {},
   "outputs": [],
   "source": [
    "#question 3"
   ]
  },
  {
   "cell_type": "code",
   "execution_count": 9,
   "metadata": {},
   "outputs": [],
   "source": [
    "cat_sample = []\n",
    "for l in readGz(\"train.json.gz\"):\n",
    "    cat_sample.append(l['categories'])\n",
    "\n",
    "IC_dict = dict(zip(item_sample,cat_sample))\n",
    "UI_dict = userinformation\n"
   ]
  },
  {
   "cell_type": "code",
   "execution_count": 10,
   "metadata": {},
   "outputs": [
    {
     "data": {
      "text/plain": [
       "19914"
      ]
     },
     "execution_count": 10,
     "metadata": {},
     "output_type": "execute_result"
    }
   ],
   "source": [
    "len(IC_dict)"
   ]
  },
  {
   "cell_type": "code",
   "execution_count": 11,
   "metadata": {},
   "outputs": [
    {
     "data": {
      "text/plain": [
       "1042"
      ]
     },
     "execution_count": 11,
     "metadata": {},
     "output_type": "execute_result"
    }
   ],
   "source": [
    "#New method to solve problem 3 and problem 4\n",
    "dict2 = {}\n",
    "list2 =set()\n",
    "for item in IC_dict:\n",
    "    for i in range(0,len(IC_dict[item])):\n",
    "        for k in range (0,len(IC_dict[item][i])):\n",
    "            if len(IC_dict[item][i][k]) > 0:\n",
    "                    dict2[IC_dict[item][i][k]] = 0\n",
    "for item in IC_dict:\n",
    "    for i in range(0,len(IC_dict[item])):\n",
    "        for k in range (0,len(IC_dict[item][i])):\n",
    "            if len(IC_dict[item][i][k]) > 0:\n",
    "                    dict2[IC_dict[item][i][k]] += 1            \n",
    "    \n",
    "len(dict2)"
   ]
  },
  {
   "cell_type": "code",
   "execution_count": 12,
   "metadata": {},
   "outputs": [],
   "source": [
    "dict4 = sorted(dict2.items(),key = lambda x:x[1],reverse = True)\n"
   ]
  },
  {
   "cell_type": "code",
   "execution_count": 13,
   "metadata": {},
   "outputs": [],
   "source": [
    "dict4 = sorted(dict2.items(),key = lambda x:x[1],reverse = True)\n",
    "list_high = []\n",
    "list_medium = []\n",
    "list_low = []\n",
    "for i in range(20):\n",
    "    list_high.append(dict4[i][0])\n",
    "for i in range(20,50):\n",
    "    list_medium.append(dict4[i][0])\n",
    "for i in range(50,len(dict4)):\n",
    "    list_low.append(dict4[i][0])"
   ]
  },
  {
   "cell_type": "code",
   "execution_count": 14,
   "metadata": {},
   "outputs": [],
   "source": [
    "dict1 = {}\n",
    "list1 =set()\n",
    "for item in IC_dict:\n",
    "    for i in range(0,len(IC_dict[item])):\n",
    "        for k in range (0,len(IC_dict[item][i])):\n",
    "            if len(IC_dict[item][i][k]) > 1:\n",
    "                    list1.add(IC_dict[item][i][k]) \n",
    "    dict1[item] = list1\n",
    "    list1 =set()"
   ]
  },
  {
   "cell_type": "code",
   "execution_count": 15,
   "metadata": {},
   "outputs": [],
   "source": [
    "for i in validation_fact:\n",
    "        user,temporary = i.strip().split('-')\n",
    "        item,fact = temporary.strip().split(',')\n",
    "        actul.append(fact)"
   ]
  },
  {
   "cell_type": "code",
   "execution_count": 111,
   "metadata": {},
   "outputs": [
    {
     "name": "stdout",
     "output_type": "stream",
     "text": [
      "0 0.945275\n"
     ]
    }
   ],
   "source": [
    "    x=0\n",
    "    count = 0\n",
    "    accuracy= []\n",
    "    prediction =[]\n",
    "    cob_list = []\n",
    "    count2 =0\n",
    "    count2_list = []\n",
    "    premium =0\n",
    "    for i in validation_fact:\n",
    "        user,temporary = i.strip().split('-')\n",
    "        item,fact = temporary.strip().split(',')\n",
    "        if item in return1:\n",
    "            premium =3\n",
    "        else:\n",
    "            premium =0\n",
    "        for j in range(0,len(UI_dict[user])):\n",
    "            try:\n",
    "                a = dict1[UI_dict[user][j]]\n",
    "                b = dict1[item]\n",
    "                cob = a&b\n",
    "                cob_list = list(cob)\n",
    "                for d in range(len(cob_list)):\n",
    "                    if cob_list[d] in list_high:\n",
    "                        count2 += 1\n",
    "                    if cob_list[d] in list_medium:\n",
    "                        count2 += 1\n",
    "                    if cob_list[d] in list_low:\n",
    "                        count2 += 1\n",
    "                cob_list= []\n",
    "                cob =[]\n",
    "                count2_list.append(count2)\n",
    "                count2 = 0\n",
    "            except:\n",
    "                continue\n",
    "                count2_list.append(0)\n",
    "        if sum(count2_list) != 0:\n",
    "            count = max(count2_list)\n",
    "            count2_list = []\n",
    "        else:\n",
    "            count = 0\n",
    "            count2_list = []\n",
    "        if count >= 3  :\n",
    "            count = 0\n",
    "            prediction.append(1)\n",
    "        else:\n",
    "            prediction.append(0)\n",
    "            count = 0\n",
    "    count = 0\n",
    "    for i in range(0,len(prediction)):\n",
    "        if prediction[i] == int(actul[i]):\n",
    "            count = count +1\n",
    "    accuracy_rate = count/len(prediction)\n",
    "    print(x,accuracy_rate)\n",
    "# Question 3(new method,better accuracy,0.63532)"
   ]
  },
  {
   "cell_type": "code",
   "execution_count": 112,
   "metadata": {},
   "outputs": [
    {
     "data": {
      "text/plain": [
       "105371"
      ]
     },
     "execution_count": 112,
     "metadata": {},
     "output_type": "execute_result"
    }
   ],
   "source": []
  },
  {
   "cell_type": "code",
   "execution_count": null,
   "metadata": {},
   "outputs": [],
   "source": [
    "    test = open(\"pairs_Purchase.txt\",\"r\").readlines()\n",
    "    test = test[1:]\n",
    "    test = [i.strip() for i in test]\n",
    "    prediction = []\n",
    "    point = 0\n",
    "\n",
    "    count = 0\n",
    "    accuracy= []\n",
    "    prediction =[]\n",
    "    cob_list = []\n",
    "    count2 =0\n",
    "    count2_list = []\n",
    "    premium = 0\n",
    "    for i in test:\n",
    "        user,item = i.strip().split('-')\n",
    "        for j in range(0,len(UI_dict[user])):\n",
    "            try:\n",
    "                a = dict1[UI_dict[user][j]]\n",
    "                b = dict1[item]\n",
    "                cob = a&b\n",
    "                cob_list = list(cob)\n",
    "                for d in range(len(cob_list)):\n",
    "                    if cob_list[d] in list_high:\n",
    "                        count2 += 1\n",
    "                    if cob_list[d] in list_medium:\n",
    "                        count2 += 1\n",
    "                    if cob_list[d] in list_low:\n",
    "                        count2 += 1\n",
    "                cob_list= []\n",
    "                cob =[]\n",
    "                count2_list.append(count2)\n",
    "                count2 = 0\n",
    "            except:\n",
    "                continue\n",
    "                count2_list.append(0)\n",
    "        if sum(count2_list) != 0:\n",
    "            count = max(count2_list)\n",
    "            count2_list = []\n",
    "        else:\n",
    "            count = 0\n",
    "            count2_list = []\n",
    "        if count+premium > 3  :\n",
    "            count = 0\n",
    "            prediction.append(1)\n",
    "        else:\n",
    "            if item in return1:\n",
    "                prediction.append(1)\n",
    "                count = 0\n",
    "            else:\n",
    "                prediction.append(0)\n",
    "                count = 0\n",
    "sum(prediction)"
   ]
  },
  {
   "cell_type": "code",
   "execution_count": 108,
   "metadata": {},
   "outputs": [
    {
     "data": {
      "text/plain": [
       "100000"
      ]
     },
     "execution_count": 108,
     "metadata": {},
     "output_type": "execute_result"
    }
   ],
   "source": [
    "count"
   ]
  },
  {
   "cell_type": "code",
   "execution_count": 127,
   "metadata": {},
   "outputs": [
    {
     "data": {
      "text/plain": [
       "11326"
      ]
     },
     "execution_count": 127,
     "metadata": {},
     "output_type": "execute_result"
    }
   ],
   "source": [
    "# Question 4(new method,better accuracy in test set,kaggle name Troy Peng accuracy : 0.63928\n",
    "test = open(\"pairs_Purchase.txt\",\"r\").readlines()\n",
    "test = test[1:]\n",
    "test = [i.strip() for i in test]\n",
    "prediction = []\n",
    "point = 0\n",
    "\n",
    "count = 0\n",
    "accuracy= []\n",
    "prediction =[]\n",
    "cob_list = []\n",
    "count2 =0\n",
    "count2_list = []\n",
    "premium = 0\n",
    "for i in test:\n",
    "    user,item = i.strip().split('-')\n",
    "    for j in range(0,len(UI_dict[user])):\n",
    "        try:\n",
    "            a = dict1[UI_dict[user][j]]\n",
    "            b = dict1[item]\n",
    "            cob = a&b\n",
    "            cob_list = list(cob)\n",
    "            for d in range(len(cob_list)):\n",
    "                if cob_list[d] in list_high:\n",
    "                    count2 += 0.5\n",
    "                if cob_list[d] in list_medium:\n",
    "                    count2 += 1\n",
    "                if cob_list[d] in list_low:\n",
    "                    count2 += 1\n",
    "            cob_list= []\n",
    "            cob =[]\n",
    "            count2_list.append(count2)\n",
    "            count2 = 0\n",
    "        except:\n",
    "            count2_list.append(0)\n",
    "            continue\n",
    "    if sum(count2_list) != 0:\n",
    "        count = max(count2_list)\n",
    "        count2_list = []\n",
    "    else:\n",
    "        count = 0\n",
    "        count2_list = []\n",
    "    if count >  2.5 :\n",
    "        count = 0\n",
    "        prediction.append(1)\n",
    "    elif item in return1:\n",
    "        prediction.append(1)\n",
    "        count = 0\n",
    "    else:\n",
    "        prediction.append(0)\n",
    "        count=0\n",
    "sum(prediction)"
   ]
  },
  {
   "cell_type": "code",
   "execution_count": 17,
   "metadata": {},
   "outputs": [],
   "source": [
    "import csv\n",
    "\n",
    "with open('prediction_new.csv', 'w') as csv_file:\n",
    "    csv_write = csv.writer(csv_file)\n",
    "    for a in prediction:\n",
    "        csv_write.writerow(str(a))\n",
    "\n"
   ]
  },
  {
   "cell_type": "code",
   "execution_count": 65,
   "metadata": {},
   "outputs": [],
   "source": [
    "import csv\n",
    "\n",
    "with open('prediction_new.csv', 'w') as csv_file:\n",
    "    csv_write = csv.writer(csv_file)\n",
    "    for a in prediction:\n",
    "        csv_write.writerow(str(a))\n",
    "\n"
   ]
  },
  {
   "cell_type": "code",
   "execution_count": null,
   "metadata": {},
   "outputs": [],
   "source": [
    "if 'Novelty' != IC_dict[item][i][k] and 'Clothing' != IC_dict[item][i][k] and 'Shoe' != IC_dict[item][i][k] and 'XOXO' != IC_dict[item][i][k] and 'Shoes' !=IC_dict[item][i][k] :\n",
    "                    list1.add(IC_dict[item][i][k])\n",
    "    dict1[item] = list1\n",
    "    list1 =set()"
   ]
  },
  {
   "cell_type": "code",
   "execution_count": null,
   "metadata": {},
   "outputs": [],
   "source": [
    "    def cosine_similarity(vector1, vector2):\n",
    "        try:\n",
    "            m = np.array(vector1).T\n",
    "            n = np.array(vector2).T\n",
    "            p= sum(m*n)\n",
    "            k = (sum(m*m)**0.5)*(sum(n*n)**0.5)\n",
    "            return p/k\n",
    "        except:\n",
    "            return 0\n",
    "    from numpy import argmax\n",
    "    whole_list = []\n",
    "    for i in dict2:\n",
    "        whole_list.append(i)\n",
    "    count = 0\n",
    "    accuracy= []\n",
    "    prediction =[]\n",
    "    cob_list = []\n",
    "    count2 =0\n",
    "    count2_list = []\n",
    "    cosine = 0\n",
    "    for i in validation_fact:\n",
    "        user,temporary = i.strip().split('-')\n",
    "        item,fact = temporary.strip().split(',')\n",
    "        data1 = dict1[item]\n",
    "        onehot_encoded_testitem=[]\n",
    "        char_to_int_testitem = dict((cc, ii) for ii, cc in enumerate(whole_list))\n",
    "        int_to_char_testitem = dict((ii, cc) for ii, cc in enumerate(whole_list))\n",
    "        integer_encoded_testitem = [char_to_int_testitem[char] for char in data1]\n",
    "        onehot_encoded_testitem = list()\n",
    "        letter_testitem = [0 for _ in range(len(whole_list))]\n",
    "        for value in integer_encoded_testitem:\n",
    "            letter_testitem[value] = 1\n",
    "        onehot_encoded_testitem.append(letter_testitem)    \n",
    "        for j in range(0,len(UI_dict[user])):\n",
    "            try:\n",
    "                for k in range(0,len(IC_dict[UI_dict[user][j]])):\n",
    "                    a = dict1[UI_dict[user][j]]\n",
    "                judgement = 0 \n",
    "            except:\n",
    "                judgement = 1\n",
    "                continue\n",
    "        if judgement = 1 :\n",
    "            prediction.append(0)\n",
    "        else:\n",
    "            cosine = cosine_similarity(onehot_encoded_testitem,)\n",
    "    count = 0\n",
    "    for i in range(0,len(prediction)):\n",
    "        if prediction[i] == int(actul[i]):\n",
    "            count = count +1\n",
    "    accuracy_rate = count/len(prediction)\n",
    "    print(x)\n",
    "    print(accuracy_rate)\n",
    "# Question 3(new method,better accuracy,0.63532)"
   ]
  },
  {
   "cell_type": "code",
   "execution_count": null,
   "metadata": {},
   "outputs": [],
   "source": [
    "\n",
    "from numpy import array\n",
    "def cosine_similarity(vector1, vector2):\n",
    "    try:\n",
    "        m = np.array(vector1).T\n",
    "        n = np.array(vector2).T\n",
    "        p= sum(m*n)\n",
    "        k = (sum(m)**0.5)*(sum(n)**0.5)\n",
    "        return p/k\n",
    "    except:\n",
    "        return 0\n",
    "whole_list = []\n",
    "for i in dict2:\n",
    "    whole_list.append(i)\n",
    "\n",
    "from numpy import argmax\n",
    "# define input string\n",
    "data = dict1[\"I402344648\"]\n",
    "print(data)\n",
    "# define universe of possible input values\n",
    "alphabet = whole_list\n",
    "# define a mapping of chars to integers\n",
    "char_to_int = dict((c, i) for i, c in enumerate(alphabet))\n",
    "int_to_char = dict((i, c) for i, c in enumerate(alphabet))\n",
    "# integer encode input data\n",
    "integer_encoded = [char_to_int[char] for char in data]\n",
    "print(integer_encoded)\n",
    "# one hot encode\n",
    "onehot_encoded = list()\n",
    "letter = [0 for _ in range(len(alphabet))]\n",
    "for value in integer_encoded:\n",
    "    letter[value] = 1\n",
    "onehot_encoded.append(letter)       \n",
    "data = dict1['I697650540']\n",
    "alphabet = whole_list\n",
    "char_to_int = dict((c, i) for i, c in enumerate(alphabet))\n",
    "int_to_char = dict((i, c) for i, c in enumerate(alphabet))\n",
    "integer_encoded = [char_to_int[char] for char in data]\n",
    "onehot_encoded2 = list()\n",
    "letter = [0 for _ in range(len(alphabet))]\n",
    "for value in integer_encoded:\n",
    "    letter[value] = 1\n",
    "onehot_encoded2.append(letter)    \n",
    "cosine_similarity(onehot_encoded2,onehot_encoded)"
   ]
  }
 ],
 "metadata": {
  "kernelspec": {
   "display_name": "Python 3",
   "language": "python",
   "name": "python3"
  },
  "language_info": {
   "codemirror_mode": {
    "name": "ipython",
    "version": 3
   },
   "file_extension": ".py",
   "mimetype": "text/x-python",
   "name": "python",
   "nbconvert_exporter": "python",
   "pygments_lexer": "ipython3",
   "version": "3.7.0"
  }
 },
 "nbformat": 4,
 "nbformat_minor": 2
}
