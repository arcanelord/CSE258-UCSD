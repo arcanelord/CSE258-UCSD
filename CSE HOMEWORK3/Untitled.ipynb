{
 "cells": [
  {
   "cell_type": "code",
   "execution_count": 17,
   "metadata": {},
   "outputs": [],
   "source": [
    "import gzip\n",
    "from collections import defaultdict\n",
    "\n",
    "import numpy as np\n",
    "import random\n",
    "\n",
    "import matplotlib.pyplot as plt\n",
    "\n",
    "def readGz(f):\n",
    "  for l in gzip.open(f):\n",
    "    yield eval(l)"
   ]
  },
  {
   "cell_type": "code",
   "execution_count": 18,
   "metadata": {},
   "outputs": [],
   "source": [
    "# shuffle\n",
    "index_train= list(range(200000))\n",
    "np.random.shuffle(index_train)\n",
    "index_train = index_train[0:100000]"
   ]
  },
  {
   "cell_type": "code",
   "execution_count": 19,
   "metadata": {},
   "outputs": [],
   "source": [
    "# read every line\n",
    "userBusiness = defaultdict(list)\n",
    "userBusiness_train = defaultdict(list)\n",
    "userBusiness_vali = defaultdict(list)\n",
    "count = -1\n",
    "validation_purchase = open(\"validation_purchase.txt\", 'w')\n",
    "validation_P = open(\"validation_P.txt\", 'w')\n",
    "train_P = open(\"train_P.txt\", 'w')\n",
    "for l in readGz(\"train.json.gz\"):\n",
    "    count = count + 1\n",
    "    user,business = l['reviewerID'],l['itemID']\n",
    "    userBusiness[user].append(business)\n",
    "    if count < 100000:\n",
    "        user_train,business_train = l['reviewerID'],l['itemID']\n",
    "        userBusiness_train[user_train].append(business_train)\n",
    "        train_P.write(user_train + '-' + business_train + \",1\\n\")\n",
    "    else:\n",
    "        user_vali,business_vali = l['reviewerID'],l['itemID']\n",
    "        userBusiness_vali[user].append(business_vali)\n",
    "        validation_purchase.write(user_vali + '-' + business_vali + \",1\\n\")\n",
    "        validation_P.write(user_vali + '-' + business_vali + \",1\\n\")\n"
   ]
  },
  {
   "cell_type": "code",
   "execution_count": 21,
   "metadata": {},
   "outputs": [
    {
     "data": {
      "text/plain": [
       "36402"
      ]
     },
     "execution_count": 21,
     "metadata": {},
     "output_type": "execute_result"
    }
   ],
   "source": [
    "len(userBusiness_vali)"
   ]
  },
  {
   "cell_type": "code",
   "execution_count": 12,
   "metadata": {},
   "outputs": [
    {
     "ename": "KeyboardInterrupt",
     "evalue": "",
     "output_type": "error",
     "traceback": [
      "\u001b[0;31m---------------------------------------------------------------------------\u001b[0m",
      "\u001b[0;31mKeyboardInterrupt\u001b[0m                         Traceback (most recent call last)",
      "\u001b[0;32m<ipython-input-12-4dd628f9e985>\u001b[0m in \u001b[0;36m<module>\u001b[0;34m()\u001b[0m\n\u001b[1;32m     17\u001b[0m \u001b[0mcount\u001b[0m \u001b[0;34m=\u001b[0m \u001b[0;36m0\u001b[0m\u001b[0;34m\u001b[0m\u001b[0m\n\u001b[1;32m     18\u001b[0m \u001b[0;32mwhile\u001b[0m \u001b[0mcount\u001b[0m \u001b[0;34m<\u001b[0m \u001b[0;36m100000\u001b[0m\u001b[0;34m:\u001b[0m\u001b[0;34m\u001b[0m\u001b[0m\n\u001b[0;32m---> 19\u001b[0;31m     \u001b[0mpickedu\u001b[0m\u001b[0;34m=\u001b[0m \u001b[0mrandom\u001b[0m\u001b[0;34m.\u001b[0m\u001b[0msample\u001b[0m\u001b[0;34m(\u001b[0m\u001b[0muserset\u001b[0m\u001b[0;34m,\u001b[0m \u001b[0;36m1\u001b[0m\u001b[0;34m)\u001b[0m\u001b[0;34m\u001b[0m\u001b[0m\n\u001b[0m\u001b[1;32m     20\u001b[0m     \u001b[0mpickedi\u001b[0m\u001b[0;34m=\u001b[0m \u001b[0mrandom\u001b[0m\u001b[0;34m.\u001b[0m\u001b[0msample\u001b[0m\u001b[0;34m(\u001b[0m\u001b[0mitemset\u001b[0m\u001b[0;34m,\u001b[0m \u001b[0;36m1\u001b[0m\u001b[0;34m)\u001b[0m\u001b[0;34m\u001b[0m\u001b[0m\n\u001b[1;32m     21\u001b[0m     \u001b[0;32mif\u001b[0m \u001b[0mpickedi\u001b[0m\u001b[0;34m[\u001b[0m\u001b[0;36m0\u001b[0m\u001b[0;34m]\u001b[0m \u001b[0;32mnot\u001b[0m \u001b[0;32min\u001b[0m \u001b[0muserBusiness\u001b[0m\u001b[0;34m[\u001b[0m\u001b[0mpickedu\u001b[0m\u001b[0;34m[\u001b[0m\u001b[0;36m0\u001b[0m\u001b[0;34m]\u001b[0m\u001b[0;34m]\u001b[0m\u001b[0;34m:\u001b[0m\u001b[0;34m\u001b[0m\u001b[0m\n",
      "\u001b[0;31mKeyboardInterrupt\u001b[0m: "
     ]
    }
   ],
   "source": [
    "\n",
    "\n",
    "# generate 100000 nonpurchase\n",
    "# item set user set\n",
    "userset=list()\n",
    "itemset=list()\n",
    "notPurchase=list()\n",
    "for l in readGz(\"train.json.gz\"):\n",
    "    userset.append(l['reviewerID'])\n",
    "    itemset.append(l['itemID'])\n",
    "\n",
    "userset = set(userset)\n",
    "itemset = set(itemset)\n",
    "\n",
    "# random and writein\n",
    "validation_notpurchase = open(\"validation_notpurchase.txt\", 'w')\n",
    "count = 0\n",
    "while count < 100000:\n",
    "    pickedu= random.sample(userset, 1)\n",
    "    pickedi= random.sample(itemset, 1)\n",
    "    if pickedi[0] not in userBusiness[pickedu[0]]:\n",
    "        count = count + 1\n",
    "        validation_notpurchase.write(pickedu[0] + '-' + pickedi[0] + \",0\\n\")\n",
    "        validation_P.write(pickedu[0] + '-' + pickedi[0] + \",0\\n\")\n",
    "        \n",
    "validation_notpurchase.close()\n",
    "validation_purchase.close()\n",
    "validation_P.close()\n",
    "train_P.close()"
   ]
  },
  {
   "cell_type": "code",
   "execution_count": null,
   "metadata": {},
   "outputs": [],
   "source": []
  },
  {
   "cell_type": "markdown",
   "metadata": {},
   "source": [
    "#### 1. \n",
    "Although we have built a validation set, it only consists of positive samples. For this task we also need\n",
    "examples of user/item pairs that weren’t purchased. Build such a set by randomly sampling users and\n",
    "items until you have 100,000 non-purchased user/item pairs. This random sample combined with your\n",
    "100,000 validation reviews now corresponds to the complete validation set for the purchase prediction\n",
    "task. Evaluate the performance (accuracy) of the baseline model on the validation set you have built (1\n",
    "mark)."
   ]
  },
  {
   "cell_type": "code",
   "execution_count": 127,
   "metadata": {},
   "outputs": [
    {
     "name": "stdout",
     "output_type": "stream",
     "text": [
      "accuracy is 0.62852\n",
      "44482\n",
      "81222\n"
     ]
    }
   ],
   "source": [
    "# evaluate the performance of the baseline model\n",
    "train_purchase = open('train_P.txt').readlines()\n",
    "validation_purchase = open('validation_P.txt').readlines()\n",
    "\n",
    "businessCount = defaultdict(int)\n",
    "totalPurchases = 0\n",
    "\n",
    "for l in train_purchase:\n",
    "  user,business = l[0:10], l[11:21]  \n",
    "  businessCount[business] += 1\n",
    "  totalPurchases += 1\n",
    "\n",
    "mostPopular = [(businessCount[x], x) for x in businessCount]\n",
    "mostPopular.sort()\n",
    "mostPopular.reverse()\n",
    "\n",
    "return1 = set()\n",
    "count = 0\n",
    "for ic, i in mostPopular:\n",
    "  count += ic\n",
    "  return1.add(i)\n",
    "  if count > totalPurchases/2: break\n",
    "\n",
    "predictions = open(\"predictions_Purchase.txt\", 'w')\n",
    "right = 0\n",
    "right1 = 0\n",
    "right2 = 0\n",
    "for l in validation_purchase:\n",
    "  u,i,r = l[0:10], l[11:21], l[22:23]\n",
    "  if i in return1:\n",
    "    predictions.write(u + '-' + i + \",1\\n\")\n",
    "    if r == '1':\n",
    "        right = right + 1\n",
    "        right1 += 1\n",
    "  else:\n",
    "    predictions.write(u + '-' + i + \",0\\n\")\n",
    "    if r == '0':\n",
    "        right = right + 1\n",
    "        right2 += 1\n",
    "\n",
    "\n",
    "acc = right/len(validation_purchase)\n",
    "\n",
    "print('accuracy is ' + str(acc))\n",
    "predictions.close()\n"
   ]
  },
  {
   "cell_type": "markdown",
   "metadata": {},
   "source": [
    "#### 2. \n",
    "The existing ‘purchase prediction’ baseline just returns True if the item in question is ‘popular,’ using a\n",
    "threshold of the 50th percentile of popularity (totalPurchases/2). Assuming that the ‘non-purchased’\n",
    "test examples are a random sample of user-purchase pairs, is this particular threshold value the best? If\n",
    "not, see if you can find a better one (and report its performance), or if so, explain why it is the best (1\n",
    "mark)"
   ]
  },
  {
   "cell_type": "markdown",
   "metadata": {},
   "source": [
    "We can see that in the baseline, we do not care about the user but only care about the product. Assume the ratio that we should use to be x. \n",
    "\n",
    "We have two part of accuracy.\n",
    "\n",
    "The first part is the accuracy of Purchased\n",
    "\n",
    "The second part is the accuracy of non-Purchased\n",
    "\n",
    "For the first part, the higher x can lead to higher accuracy. The items in the vali_set is a sample of purchased items. That means the accracy for this part is x.\n",
    "\n",
    "For the second part, the higher x can lead to lower accuracy. The items in the vali_set is a sample of item cataglories. The accuracy is \n",
    "\n",
    "$$ 1-cataglories_{in\\_x} / all\\_cataglories$$\n",
    "\n",
    "The accracy can be write as \n",
    "\n",
    "$$(1-\\frac{cataglories_{in\\_x}}{all\\_cataglories}+x)/2$$\n",
    "\n",
    "So there should be one x that make the accuracy to be optimal."
   ]
  },
  {
   "cell_type": "code",
   "execution_count": 156,
   "metadata": {},
   "outputs": [
    {
     "data": {
      "image/png": "[encoded data removed]",
      "text/plain": [
       "<Figure size 432x288 with 1 Axes>"
      ]
     },
     "metadata": {
      "needs_background": "light"
     },
     "output_type": "display_data"
    }
   ],
   "source": [
    "# all cataglories\n",
    "all_cata = len(itemset)\n",
    "\n",
    "# approximate accuracy\n",
    "\n",
    "x = np.arange(0., 1., 0.01)\n",
    "acc = list()\n",
    "acc1=list()\n",
    "businessCount = defaultdict(int)\n",
    "totalPurchases = 0\n",
    "\n",
    "for l in train_purchase:\n",
    "  user,business = l[0:10], l[11:21]  \n",
    "  businessCount[business] += 1\n",
    "  totalPurchases += 1\n",
    "\n",
    "for w in x:\n",
    "    return2 = set()\n",
    "    count = 0\n",
    "    for ic, i in mostPopular:\n",
    "      count += ic\n",
    "      return2.add(i)\n",
    "      if count > totalPurchases*w: break\n",
    "\n",
    "    cata_inx = len(return2)/all_cata\n",
    "    acc.append((1 - cata_inx + w)/2)\n",
    "    acc1.append(1-cata_inx)\n",
    "    \n",
    "\n",
    "plt.plot(x,acc)\n",
    "plt.show()"
   ]
  },
  {
   "cell_type": "code",
   "execution_count": 154,
   "metadata": {},
   "outputs": [
    {
     "name": "stdout",
     "output_type": "stream",
     "text": [
      "accuracy is 0.62641\n",
      "72768\n"
     ]
    }
   ],
   "source": [
    "## evaluate the performance of the baseline model\n",
    "\n",
    "businessCount = defaultdict(int)\n",
    "totalPurchases = 0\n",
    "\n",
    "for l in train_purchase:\n",
    "  user,business = l[0:10], l[11:21]  \n",
    "  businessCount[business] += 1\n",
    "  totalPurchases += 1\n",
    "\n",
    "return1 = set()\n",
    "count = 0\n",
    "for ic, i in mostPopular:\n",
    "  count += ic\n",
    "  return1.add(i)\n",
    "  if count > totalPurchases*0.6: break\n",
    "\n",
    "predictions = open(\"predictions_Purchase.txt\", 'w')\n",
    "right = 0\n",
    "right1 = 0\n",
    "right2 = 0\n",
    "for l in validation_purchase:\n",
    "  u,i,r = l[0:10], l[11:21], l[22:23]\n",
    "  if i in return1:\n",
    "    predictions.write(u + '-' + i + \",1\\n\")\n",
    "    if r == '1':\n",
    "        right = right + 1\n",
    "        right1 += 1\n",
    "  else:\n",
    "    predictions.write(u + '-' + i + \",0\\n\")\n",
    "    if r == '0':\n",
    "        right = right + 1\n",
    "        right2 += 1\n",
    "\n",
    "\n",
    "acc = right/len(validation_purchase)\n",
    "\n",
    "print('accuracy is ' + str(acc))\n",
    "predictions.close()"
   ]
  },
  {
   "cell_type": "markdown",
   "metadata": {},
   "source": [
    "### 3. \n",
    "Users may tend to repeatedly purchase items of the same type. Build a baseline that returns ‘True’ if\n",
    "a user has purchased an item of the same category before (at least one category in common), or zero\n",
    "otherwise (1 mark)."
   ]
  },
  {
   "cell_type": "code",
   "execution_count": 159,
   "metadata": {},
   "outputs": [],
   "source": [
    "user = []\n",
    "item = []\n",
    "category = []\n",
    "\n",
    "for l in readGz(\"train.json.gz\"):\n",
    "    user.append(l['reviewerID'])\n",
    "    item.append(l['itemID'])\n",
    "    category.append(l['categories'])\n",
    "\n",
    "# item to cat\n",
    "IC_dict = dict(zip(item,category))\n",
    "\n",
    "train_purchase = open('train_P.txt').readlines()\n",
    "validation_purchase = open('validation_P.txt').readlines()\n",
    "\n",
    "# 每个人在train中有的cat\n",
    "usercat_train = defaultdict(dict)\n",
    "for i in train_purchase:\n",
    "    user, item = i[0:10], i[11:21]\n",
    "    usercat_train[user][item]=(IC_dict[item])\n",
    "\n",
    "usercat_vali = defaultdict(dict)\n",
    "for i in validation_purchase:\n",
    "    user, item = i[0:10], i[11:21]\n",
    "    usercat_vali[user][item]=(IC_dict[item])"
   ]
  },
  {
   "cell_type": "code",
   "execution_count": 230,
   "metadata": {},
   "outputs": [],
   "source": [
    "def cata(dicti,i):\n",
    "    x = list()\n",
    "    y = list()\n",
    "    for j in dicti[i]:\n",
    "        for k in dicti[i][j]:\n",
    "            x.append(k)\n",
    "    for i in x:\n",
    "        for j in i:\n",
    "            y.append(j)\n",
    "    y = list(set(y))\n",
    "    return(y)"
   ]
  },
  {
   "cell_type": "code",
   "execution_count": 255,
   "metadata": {},
   "outputs": [],
   "source": [
    "def cata2(dicti,i):\n",
    "    x = list()\n",
    "    for j in dicti[i]:\n",
    "        x.append(j)\n",
    "    x=list(set(j))\n",
    "    return(x)"
   ]
  },
  {
   "cell_type": "code",
   "execution_count": 270,
   "metadata": {},
   "outputs": [
    {
     "name": "stdout",
     "output_type": "stream",
     "text": [
      "0.493485\n"
     ]
    }
   ],
   "source": [
    "count = 0\n",
    "for i in validation_purchase:\n",
    "    x = list()\n",
    "    y = list()\n",
    "    x = cata2(IC_dict, i[11:21])\n",
    "    y = cata(usercat_train, i[0:10])\n",
    "    lab = any(j in y for j in x)\n",
    "    if lab == int(i[22:23]):\n",
    "        count = count +1\n",
    "\n",
    "portion = count/len(validation_purchase)\n",
    "print(portion)"
   ]
  },
  {
   "cell_type": "markdown",
   "metadata": {},
   "source": [
    "#### 4. \n",
    "To run our model on the test set, we’ll have to use the files ‘pairs Purchase.txt’ to find the reviewerID/itemID\n",
    "pairs about which we have to make predictions. Using that data, run the above model and\n",
    "upload your solution to Kaggle. Tell us your Kaggle user name (1 mark). If you’ve already uploaded a\n",
    "better solution to Kaggle, that’s fine too!\n"
   ]
  },
  {
   "cell_type": "code",
   "execution_count": null,
   "metadata": {},
   "outputs": [],
   "source": [
    "# ### Would-purchase baseline: just rank which businesses are popular and which are not, and return '1' if a business is among the top-ranked\n",
    "\n",
    "# businessCount = defaultdict(int)\n",
    "# totalPurchases = 0\n",
    "\n",
    "# for l in readGz(\"train.json.gz\"):\n",
    "#   user,business = l['reviewerID'],l['itemID']  \n",
    "#   businessCount[business] += 1\n",
    "#   totalPurchases += 1\n",
    "\n",
    "# mostPopular = [(businessCount[x], x) for x in businessCount]\n",
    "# mostPopular.sort()\n",
    "# mostPopular.reverse()\n",
    "\n",
    "# return1 = set()\n",
    "# count = 0\n",
    "# for ic, i in mostPopular:\n",
    "#   count += ic\n",
    "#   return1.add(i)\n",
    "#   if count > totalPurchases/2: break\n",
    "\n",
    "# predictions = open(\"predictions_Purchase.txt\", 'w')\n",
    "# for l in open(\"pairs_Purchase.txt\"):\n",
    "#   if l.startswith(\"reviewerID\"):\n",
    "#     #header\n",
    "#     predictions.write(l)\n",
    "#     continue\n",
    "#   u,i = l.strip().split('-')\n",
    "#   if i in return1:\n",
    "#     predictions.write(u + '-' + i + \",1\\n\")\n",
    "#   else:\n",
    "#     predictions.write(u + '-' + i + \",0\\n\")\n",
    "\n",
    "# predictions.close()"
   ]
  },
  {
   "cell_type": "markdown",
   "metadata": {},
   "source": [
    "#### 5. \n",
    "What is the performance of a trivial predictor\n",
    "rating(user, item) = α\n",
    "on the validation set, and what is the value of α (1 mark)?"
   ]
  },
  {
   "cell_type": "markdown",
   "metadata": {},
   "source": [
    "alpha is the average rate of all ratings"
   ]
  },
  {
   "cell_type": "code",
   "execution_count": 274,
   "metadata": {},
   "outputs": [],
   "source": [
    "allRatings_train = []\n",
    "userRatings_train = defaultdict(list)\n",
    "allRatings_vali = []\n",
    "userRatings_vali = defaultdict(list)\n",
    "count = -1\n",
    "for l in readGz(\"train.json.gz\"):\n",
    "    count += 1\n",
    "    if count < 100000:\n",
    "        user,business = l['reviewerID'],l['itemID']\n",
    "        allRatings_train.append(l['rating'])\n",
    "        userRatings_train[user].append(l['rating'])\n",
    "    else:\n",
    "        user,business = l['reviewerID'],l['itemID']\n",
    "        allRatings_vali.append(l['rating'])\n",
    "        userRatings_vali[user].append(l['rating'])  "
   ]
  },
  {
   "cell_type": "code",
   "execution_count": 286,
   "metadata": {},
   "outputs": [
    {
     "data": {
      "text/plain": [
       "1.222481119999133"
      ]
     },
     "execution_count": 286,
     "metadata": {},
     "output_type": "execute_result"
    }
   ],
   "source": [
    "globalAverage = sum(allRatings_train) / len(allRatings_train)\n",
    "s = 0\n",
    "count = 0\n",
    "for i in userRatings_vali:\n",
    "    for j in userRatings_vali[i]:\n",
    "        s += (j-globalAverage)**2\n",
    "        count += 1\n",
    "s/count\n"
   ]
  },
  {
   "cell_type": "markdown",
   "metadata": {},
   "source": [
    "#### 6. \n",
    "Fit a predictor of the form\n",
    "rating(user, item) ' α + βuser + βitem,\n",
    "by fitting the mean and the two bias terms as described in the lecture notes. Use a regularization\n",
    "parameter of λ = 1. Report the MSE on the validation set (1 mark)"
   ]
  },
  {
   "cell_type": "code",
   "execution_count": null,
   "metadata": {},
   "outputs": [],
   "source": []
  },
  {
   "cell_type": "code",
   "execution_count": null,
   "metadata": {},
   "outputs": [],
   "source": []
  },
  {
   "cell_type": "code",
   "execution_count": null,
   "metadata": {},
   "outputs": [],
   "source": []
  },
  {
   "cell_type": "code",
   "execution_count": null,
   "metadata": {},
   "outputs": [],
   "source": []
  },
  {
   "cell_type": "code",
   "execution_count": null,
   "metadata": {},
   "outputs": [],
   "source": []
  },
  {
   "cell_type": "code",
   "execution_count": null,
   "metadata": {},
   "outputs": [],
   "source": []
  },
  {
   "cell_type": "code",
   "execution_count": null,
   "metadata": {},
   "outputs": [],
   "source": []
  },
  {
   "cell_type": "code",
   "execution_count": null,
   "metadata": {},
   "outputs": [],
   "source": [
    "### Would-purchase baseline: just rank which businesses are popular and which are not, and return '1' if a business is among the top-ranked\n",
    "\n",
    "businessCount = defaultdict(int)\n",
    "totalPurchases = 0\n",
    "\n",
    "for l in readGz(\"train.json.gz\"):\n",
    "  user,business = l['reviewerID'],l['itemID']  \n",
    "  businessCount[business] += 1\n",
    "  totalPurchases += 1\n",
    "\n",
    "mostPopular = [(businessCount[x], x) for x in businessCount]\n",
    "mostPopular.sort()\n",
    "mostPopular.reverse()\n",
    "\n",
    "return1 = set()\n",
    "count = 0\n",
    "for ic, i in mostPopular:\n",
    "  count += ic\n",
    "  return1.add(i)\n",
    "  if count > totalPurchases/2: break\n",
    "\n",
    "predictions = open(\"predictions_Purchase.txt\", 'w')\n",
    "for l in open(\"pairs_Purchase.txt\"):\n",
    "  if l.startswith(\"reviewerID\"):\n",
    "    #header\n",
    "    predictions.write(l)\n",
    "    continue\n",
    "  u,i = l.strip().split('-')\n",
    "  if i in return1:\n",
    "    predictions.write(u + '-' + i + \",1\\n\")\n",
    "  else:\n",
    "    predictions.write(u + '-' + i + \",0\\n\")\n",
    "\n",
    "predictions.close()"
   ]
  },
  {
   "cell_type": "code",
   "execution_count": null,
   "metadata": {},
   "outputs": [],
   "source": [
    "### Rating baseline: compute averages for each user, or return the global average if we've never seen the user before\n",
    "\n",
    "allRatings = []\n",
    "userRatings = defaultdict(list)\n",
    "for l in readGz(\"train.json.gz\"):\n",
    "  user,business = l['reviewerID'],l['itemID']\n",
    "  allRatings.append(l['rating'])\n",
    "  userRatings[user].append(l['rating'])\n",
    "\n",
    "globalAverage = sum(allRatings) / len(allRatings)\n",
    "userAverage = {}\n",
    "for u in userRatings:\n",
    "  userAverage[u] = sum(userRatings[u]) / len(userRatings[u])\n",
    "\n",
    "predictions = open(\"predictions_Rating.txt\", 'w')\n",
    "for l in open(\"pairs_Rating.txt\"):\n",
    "  if l.startswith(\"reviewerID\"):\n",
    "    #header\n",
    "    predictions.write(l)\n",
    "    continue\n",
    "  u,i = l.strip().split('-')\n",
    "  if u in userAverage:\n",
    "    predictions.write(u + '-' + i + ',' + str(userAverage[u]) + '\\n')\n",
    "  else:\n",
    "    predictions.write(u + '-' + i + ',' + str(globalAverage) + '\\n')\n",
    "\n",
    "predictions.close()"
   ]
  },
  {
   "cell_type": "code",
   "execution_count": null,
   "metadata": {},
   "outputs": [],
   "source": [
    "### Would-purchase baseline: just rank which businesses are popular and which are not, and return '1' if a business is among the top-ranked\n",
    "\n",
    "businessCount = defaultdict(int)\n",
    "totalPurchases = 0\n",
    "\n",
    "for l in readGz(\"train.json.gz\"):\n",
    "  user,business = l['reviewerID'],l['itemID']  \n",
    "  businessCount[business] += 1\n",
    "  totalPurchases += 1\n",
    "\n",
    "mostPopular = [(businessCount[x], x) for x in businessCount]\n",
    "mostPopular.sort()\n",
    "mostPopular.reverse()\n",
    "\n",
    "return1 = set()\n",
    "count = 0\n",
    "for ic, i in mostPopular:\n",
    "  count += ic\n",
    "  return1.add(i)\n",
    "  if count > totalPurchases/2: break\n",
    "\n",
    "predictions = open(\"predictions_Purchase.txt\", 'w')\n",
    "for l in open(\"pairs_Purchase.txt\"):\n",
    "  if l.startswith(\"reviewerID\"):\n",
    "    #header\n",
    "    predictions.write(l)\n",
    "    continue\n",
    "  u,i = l.strip().split('-')\n",
    "  if i in return1:\n",
    "    predictions.write(u + '-' + i + \",1\\n\")\n",
    "  else:\n",
    "    predictions.write(u + '-' + i + \",0\\n\")\n",
    "\n",
    "predictions.close()"
   ]
  },
  {
   "cell_type": "code",
   "execution_count": null,
   "metadata": {},
   "outputs": [],
   "source": []
  },
  {
   "cell_type": "code",
   "execution_count": null,
   "metadata": {},
   "outputs": [],
   "source": []
  },
  {
   "cell_type": "code",
   "execution_count": null,
   "metadata": {},
   "outputs": [],
   "source": []
  },
  {
   "cell_type": "code",
   "execution_count": null,
   "metadata": {},
   "outputs": [],
   "source": []
  },
  {
   "cell_type": "code",
   "execution_count": null,
   "metadata": {},
   "outputs": [],
   "source": []
  }
 ],
 "metadata": {
  "kernelspec": {
   "display_name": "Python 3",
   "language": "python",
   "name": "python3"
  },
  "language_info": {
   "codemirror_mode": {
    "name": "ipython",
    "version": 3
   },
   "file_extension": ".py",
   "mimetype": "text/x-python",
   "name": "python",
   "nbconvert_exporter": "python",
   "pygments_lexer": "ipython3",
   "version": "3.6.6"
  }
 },
 "nbformat": 4,
 "nbformat_minor": 2
}
