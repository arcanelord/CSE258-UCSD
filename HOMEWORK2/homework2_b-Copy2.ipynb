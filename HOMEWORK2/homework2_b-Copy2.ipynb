{
 "cells": [
  {
   "cell_type": "code",
   "execution_count": 1,
   "metadata": {},
   "outputs": [
    {
     "data": {
      "text/plain": [
       "<Figure size 640x480 with 1 Axes>"
      ]
     },
     "metadata": {},
     "output_type": "display_data"
    }
   ],
   "source": [
    "#problem b\n",
    "import numpy\n",
    "import urllib\n",
    "import scipy.optimize\n",
    "import random\n",
    "from sklearn.decomposition import PCA\n",
    "from collections import defaultdict\n",
    "\n",
    "\n",
    "### Network visualization ###\n",
    "import networkx as nx\n",
    "import matplotlib.pyplot as plt\n",
    "\n",
    "# Karate club\n",
    "G = nx.karate_club_graph()\n",
    "nx.draw(G)\n",
    "plt.show()\n",
    "plt.clf()\n",
    "\n",
    "\n",
    "import urllib.request\n",
    "url=\"http://jmcauley.ucsd.edu/cse255/data/facebook/egonet.txt\"\n",
    "data=urllib.request.urlopen(url).read()\n",
    "list1 = data.decode('ascii').split('\\n')\n",
    "list1.remove('')"
   ]
  },
  {
   "cell_type": "code",
   "execution_count": 2,
   "metadata": {},
   "outputs": [
    {
     "data": {
      "image/png": "[encoded data removed]",
      "text/plain": [
       "<Figure size 432x288 with 1 Axes>"
      ]
     },
     "metadata": {},
     "output_type": "display_data"
    },
    {
     "name": "stdout",
     "output_type": "stream",
     "text": [
      "number of components is  3\n"
     ]
    },
    {
     "data": {
      "text/plain": [
       "<Figure size 432x288 with 0 Axes>"
      ]
     },
     "metadata": {},
     "output_type": "display_data"
    }
   ],
   "source": [
    "#question 5\n",
    "edges = set()\n",
    "nodes = set()\n",
    "for edge in list1:\n",
    "    x,y = edge.split(' ')\n",
    "    x,y = int(x),int(y)\n",
    "    edges.add((x,y))\n",
    "    edges.add((y,x))\n",
    "    nodes.add(x)\n",
    "    nodes.add(y)\n",
    "G = nx.Graph()\n",
    "for e in edges:\n",
    "    G.add_edge(e[0],e[1])\n",
    "nx.draw(G)\n",
    "plt.show()\n",
    "plt.clf()\n",
    "num_components = nx.number_connected_components(G)\n",
    "print('number of components is ',num_components)"
   ]
  },
  {
   "cell_type": "code",
   "execution_count": 3,
   "metadata": {},
   "outputs": [
    {
     "name": "stdout",
     "output_type": "stream",
     "text": [
      "the number of nodes in the largest components  is  40\n"
     ]
    }
   ],
   "source": [
    "max_components =max(nx.connected_components(G),key =len)\n",
    "print('the number of nodes in the largest components  is ',len(max_components))"
   ]
  },
  {
   "cell_type": "code",
   "execution_count": 4,
   "metadata": {},
   "outputs": [],
   "source": [
    "#question 6\n",
    "max_components_subgraphs =max(nx.connected_component_subgraphs(G),key =len)\n",
    "G_list = list(max_components_subgraphs.node())\n",
    "new_list = sorted(G_list)\n"
   ]
  },
  {
   "cell_type": "code",
   "execution_count": 5,
   "metadata": {},
   "outputs": [
    {
     "name": "stdout",
     "output_type": "stream",
     "text": [
      "0.42240587695133147\n"
     ]
    }
   ],
   "source": [
    "low_list = new_list[:int(len(new_list)/2)]\n",
    "high_list = new_list[int(len(new_list)/2):]\n",
    "N_cut = (nx.cut_size(max_components_subgraphs, low_list, high_list)/sum([max_components_subgraphs.degree(v) for v in low_list])+nx.cut_size(max_components_subgraphs, low_list, high_list)/sum([max_components_subgraphs.degree(v) for v in high_list]))/2\n",
    "print(N_cut)"
   ]
  },
  {
   "cell_type": "code",
   "execution_count": 6,
   "metadata": {},
   "outputs": [],
   "source": [
    "#question 7\n",
    "def N_cut(a,b):\n",
    "    N = (nx.cut_size(max_components_subgraphs, a, b)/sum([max_components_subgraphs.degree(v) for v in a])+nx.cut_size(max_components_subgraphs, a, b)/sum([max_components_subgraphs.degree(v) for v in b]))/2\n",
    "    return N"
   ]
  },
  {
   "cell_type": "code",
   "execution_count": 7,
   "metadata": {},
   "outputs": [
    {
     "name": "stdout",
     "output_type": "stream",
     "text": [
      "0.39084740683661895\n",
      "0.352\n",
      "0.32196969696969696\n",
      "0.27650597001526167\n",
      "0.2257691215965414\n",
      "0.19539923616662225\n",
      "0.14714361493576883\n",
      "0.1295001295001295\n",
      "0.11129580111295802\n",
      "0.09817045961624274\n"
     ]
    }
   ],
   "source": [
    "list1 = low_list\n",
    "list2 = high_list\n",
    "list3 = []\n",
    "list_seq1 =[]\n",
    "list_seq2 =[]\n",
    "N_cut_list = []\n",
    "N_cut_list_set1 = []\n",
    "N_cut_list_set2 =[]\n",
    "compare_value =1\n",
    "\n",
    "for j in range(20)   :   \n",
    "    for i in range(len(list2)):\n",
    "        list1.append(list2[i])\n",
    "        list_seq1.append(list2[i])\n",
    "        list2.remove(list2[i])\n",
    "        N_cut_list_set1.append(N_cut(list1,list2))\n",
    "        list2.append(list1[len(list1)-1])\n",
    "        list1.remove(list1[len(list1)-1])\n",
    "    for i in range(len(list1)):\n",
    "        list2.append(list1[i])\n",
    "        list_seq2.append(list1[i])\n",
    "        list1.remove(list1[i])\n",
    "        N_cut_list_set2.append(N_cut(list1,list2))\n",
    "        list1.append(list2[len(list2)-1])\n",
    "        list2.remove(list2[len(list2)-1])        \n",
    "    min_value_1 = min(N_cut_list_set1)\n",
    "    min_value_2 = min(N_cut_list_set2)\n",
    "    min_value = min(min_value_1,min_value_2)\n",
    "    if min_value < compare_value:\n",
    "        if min_value_1 > min_value_2 :\n",
    "            a = N_cut_list_set2.index(min_value)\n",
    "            list2.append(list_seq2[a])\n",
    "            list1.remove(list_seq2[a])\n",
    "            N_cut_list_set1 =[]\n",
    "            N_cut_list_set2 =[]\n",
    "            list_seq1 =[]\n",
    "            list_seq2 =[]\n",
    "        else:\n",
    "            a = N_cut_list_set1.index(min_value)\n",
    "            list1.append(list_seq1[a])\n",
    "            list2.remove(list_seq1[a])\n",
    "            N_cut_list_set1 =[]\n",
    "            N_cut_list_set2 =[]\n",
    "            list_seq1 =[]\n",
    "            list_seq2 =[]\n",
    "        compare_value = min_value\n",
    "        print(compare_value)\n",
    "    "
   ]
  },
  {
   "cell_type": "code",
   "execution_count": 8,
   "metadata": {},
   "outputs": [
    {
     "name": "stdout",
     "output_type": "stream",
     "text": [
      "0.09817045961624274\n",
      "[713, 830, 856, 703, 890, 811, 708, 798, 719, 828, 819, 769, 869, 805, 880, 753, 823, 810, 697, 747, 774, 800, 840, 745, 772, 803]       [876, 884, 861, 882, 878, 863, 864, 729, 886, 888, 893, 889, 825, 804]\n"
     ]
    }
   ],
   "source": [
    "print(N_cut(list1,list2))\n",
    "print(list1,'     ',list2)\n"
   ]
  },
  {
   "cell_type": "code",
   "execution_count": 10,
   "metadata": {},
   "outputs": [
    {
     "ename": "IndexError",
     "evalue": "list index out of range",
     "output_type": "error",
     "traceback": [
      "\u001b[0;31m---------------------------------------------------------------------------\u001b[0m",
      "\u001b[0;31mIndexError\u001b[0m                                Traceback (most recent call last)",
      "\u001b[0;32m<ipython-input-10-23a3cd6cebc1>\u001b[0m in \u001b[0;36m<module>\u001b[0;34m()\u001b[0m\n\u001b[1;32m      2\u001b[0m \u001b[0mG_large_dic\u001b[0m \u001b[0;34m=\u001b[0m\u001b[0;34m[\u001b[0m\u001b[0;34m]\u001b[0m\u001b[0;34m\u001b[0m\u001b[0m\n\u001b[1;32m      3\u001b[0m \u001b[0mcut_size\u001b[0m \u001b[0;34m=\u001b[0m \u001b[0mnx\u001b[0m\u001b[0;34m.\u001b[0m\u001b[0mcut_size\u001b[0m\u001b[0;34m(\u001b[0m\u001b[0mmax_components_subgraphs\u001b[0m\u001b[0;34m,\u001b[0m\u001b[0mlist1\u001b[0m\u001b[0;34m,\u001b[0m\u001b[0mlist2\u001b[0m\u001b[0;34m)\u001b[0m\u001b[0;34m\u001b[0m\u001b[0m\n\u001b[0;32m----> 4\u001b[0;31m \u001b[0mdegree_low\u001b[0m \u001b[0;34m=\u001b[0m \u001b[0msum\u001b[0m\u001b[0;34m(\u001b[0m\u001b[0mG_large_dic\u001b[0m\u001b[0;34m[\u001b[0m\u001b[0mi\u001b[0m\u001b[0;34m]\u001b[0m \u001b[0;32mfor\u001b[0m \u001b[0mi\u001b[0m \u001b[0;32min\u001b[0m \u001b[0mlist1\u001b[0m\u001b[0;34m)\u001b[0m\u001b[0;34m\u001b[0m\u001b[0m\n\u001b[0m\u001b[1;32m      5\u001b[0m \u001b[0mdegree_high\u001b[0m \u001b[0;34m=\u001b[0m \u001b[0msum\u001b[0m\u001b[0;34m(\u001b[0m\u001b[0mG_large_dic\u001b[0m\u001b[0;34m[\u001b[0m\u001b[0mi\u001b[0m\u001b[0;34m]\u001b[0m \u001b[0;32mfor\u001b[0m \u001b[0mi\u001b[0m \u001b[0;32min\u001b[0m \u001b[0mlist2\u001b[0m\u001b[0;34m)\u001b[0m\u001b[0;34m\u001b[0m\u001b[0m\n\u001b[1;32m      6\u001b[0m \u001b[0mmodularity\u001b[0m \u001b[0;34m=\u001b[0m \u001b[0;34m(\u001b[0m\u001b[0;34m(\u001b[0m\u001b[0mdegree_low\u001b[0m \u001b[0;34m-\u001b[0m \u001b[0mcut_size\u001b[0m\u001b[0;34m)\u001b[0m\u001b[0;34m/\u001b[0m\u001b[0;36m440\u001b[0m\u001b[0;34m)\u001b[0m \u001b[0;34m-\u001b[0m \u001b[0;34m(\u001b[0m\u001b[0mdegree_low\u001b[0m\u001b[0;34m/\u001b[0m\u001b[0;36m440\u001b[0m\u001b[0;34m)\u001b[0m\u001b[0;34m**\u001b[0m\u001b[0;36m2\u001b[0m \u001b[0;34m+\u001b[0m \u001b[0;34m(\u001b[0m\u001b[0;34m(\u001b[0m\u001b[0mdegree_high\u001b[0m \u001b[0;34m-\u001b[0m \u001b[0mcut_size\u001b[0m\u001b[0;34m)\u001b[0m\u001b[0;34m/\u001b[0m\u001b[0;36m440\u001b[0m\u001b[0;34m)\u001b[0m \u001b[0;34m-\u001b[0m \u001b[0;34m(\u001b[0m\u001b[0mdegree_high\u001b[0m\u001b[0;34m/\u001b[0m\u001b[0;36m440\u001b[0m\u001b[0;34m)\u001b[0m\u001b[0;34m**\u001b[0m\u001b[0;36m2\u001b[0m\u001b[0;34m\u001b[0m\u001b[0m\n",
      "\u001b[0;32m<ipython-input-10-23a3cd6cebc1>\u001b[0m in \u001b[0;36m<genexpr>\u001b[0;34m(.0)\u001b[0m\n\u001b[1;32m      2\u001b[0m \u001b[0mG_large_dic\u001b[0m \u001b[0;34m=\u001b[0m\u001b[0;34m[\u001b[0m\u001b[0;34m]\u001b[0m\u001b[0;34m\u001b[0m\u001b[0m\n\u001b[1;32m      3\u001b[0m \u001b[0mcut_size\u001b[0m \u001b[0;34m=\u001b[0m \u001b[0mnx\u001b[0m\u001b[0;34m.\u001b[0m\u001b[0mcut_size\u001b[0m\u001b[0;34m(\u001b[0m\u001b[0mmax_components_subgraphs\u001b[0m\u001b[0;34m,\u001b[0m\u001b[0mlist1\u001b[0m\u001b[0;34m,\u001b[0m\u001b[0mlist2\u001b[0m\u001b[0;34m)\u001b[0m\u001b[0;34m\u001b[0m\u001b[0m\n\u001b[0;32m----> 4\u001b[0;31m \u001b[0mdegree_low\u001b[0m \u001b[0;34m=\u001b[0m \u001b[0msum\u001b[0m\u001b[0;34m(\u001b[0m\u001b[0mG_large_dic\u001b[0m\u001b[0;34m[\u001b[0m\u001b[0mi\u001b[0m\u001b[0;34m]\u001b[0m \u001b[0;32mfor\u001b[0m \u001b[0mi\u001b[0m \u001b[0;32min\u001b[0m \u001b[0mlist1\u001b[0m\u001b[0;34m)\u001b[0m\u001b[0;34m\u001b[0m\u001b[0m\n\u001b[0m\u001b[1;32m      5\u001b[0m \u001b[0mdegree_high\u001b[0m \u001b[0;34m=\u001b[0m \u001b[0msum\u001b[0m\u001b[0;34m(\u001b[0m\u001b[0mG_large_dic\u001b[0m\u001b[0;34m[\u001b[0m\u001b[0mi\u001b[0m\u001b[0;34m]\u001b[0m \u001b[0;32mfor\u001b[0m \u001b[0mi\u001b[0m \u001b[0;32min\u001b[0m \u001b[0mlist2\u001b[0m\u001b[0;34m)\u001b[0m\u001b[0;34m\u001b[0m\u001b[0m\n\u001b[1;32m      6\u001b[0m \u001b[0mmodularity\u001b[0m \u001b[0;34m=\u001b[0m \u001b[0;34m(\u001b[0m\u001b[0;34m(\u001b[0m\u001b[0mdegree_low\u001b[0m \u001b[0;34m-\u001b[0m \u001b[0mcut_size\u001b[0m\u001b[0;34m)\u001b[0m\u001b[0;34m/\u001b[0m\u001b[0;36m440\u001b[0m\u001b[0;34m)\u001b[0m \u001b[0;34m-\u001b[0m \u001b[0;34m(\u001b[0m\u001b[0mdegree_low\u001b[0m\u001b[0;34m/\u001b[0m\u001b[0;36m440\u001b[0m\u001b[0;34m)\u001b[0m\u001b[0;34m**\u001b[0m\u001b[0;36m2\u001b[0m \u001b[0;34m+\u001b[0m \u001b[0;34m(\u001b[0m\u001b[0;34m(\u001b[0m\u001b[0mdegree_high\u001b[0m \u001b[0;34m-\u001b[0m \u001b[0mcut_size\u001b[0m\u001b[0;34m)\u001b[0m\u001b[0;34m/\u001b[0m\u001b[0;36m440\u001b[0m\u001b[0;34m)\u001b[0m \u001b[0;34m-\u001b[0m \u001b[0;34m(\u001b[0m\u001b[0mdegree_high\u001b[0m\u001b[0;34m/\u001b[0m\u001b[0;36m440\u001b[0m\u001b[0;34m)\u001b[0m\u001b[0;34m**\u001b[0m\u001b[0;36m2\u001b[0m\u001b[0;34m\u001b[0m\u001b[0m\n",
      "\u001b[0;31mIndexError\u001b[0m: list index out of range"
     ]
    }
   ],
   "source": [
    "#question 8\n",
    "cut_size = nx.cut_size(max_components_subgraphs,list1,list2)\n",
    "degree_low = sum(G_large_dic[i] for i in list1)\n",
    "degree_high = sum(G_large_dic[i] for i in list2)\n",
    "modularity = ((degree_low - cut_size)/440) - (degree_low/440)**2 + ((degree_high - cut_size)/440) - (degree_high/440)**2"
   ]
  },
  {
   "cell_type": "code",
   "execution_count": 576,
   "metadata": {},
   "outputs": [
    {
     "data": {
      "text/plain": [
       "[frozenset({697,\n",
       "            703,\n",
       "            708,\n",
       "            713,\n",
       "            719,\n",
       "            745,\n",
       "            747,\n",
       "            772,\n",
       "            774,\n",
       "            800,\n",
       "            803,\n",
       "            805,\n",
       "            810,\n",
       "            819,\n",
       "            823,\n",
       "            828,\n",
       "            830,\n",
       "            840,\n",
       "            880}),\n",
       " frozenset({729,\n",
       "            753,\n",
       "            804,\n",
       "            825,\n",
       "            856,\n",
       "            861,\n",
       "            863,\n",
       "            864,\n",
       "            876,\n",
       "            878,\n",
       "            882,\n",
       "            884,\n",
       "            886,\n",
       "            888,\n",
       "            889,\n",
       "            893}),\n",
       " frozenset({857, 858, 862, 865, 866, 868, 870, 871, 879, 881, 894, 895}),\n",
       " frozenset({776, 859, 867, 872, 873, 874, 877, 885, 887}),\n",
       " frozenset({769, 798, 811, 869, 890})]"
      ]
     },
     "execution_count": 576,
     "metadata": {},
     "output_type": "execute_result"
    }
   ],
   "source": [
    "from networkx.algorithms.community import greedy_modularity_communities\n",
    "c= list(greedy_modularity_communities(G))\n",
    "c"
   ]
  },
  {
   "cell_type": "code",
   "execution_count": null,
   "metadata": {},
   "outputs": [],
   "source": []
  }
 ],
 "metadata": {
  "kernelspec": {
   "display_name": "Python 3",
   "language": "python",
   "name": "python3"
  },
  "language_info": {
   "codemirror_mode": {
    "name": "ipython",
    "version": 3
   },
   "file_extension": ".py",
   "mimetype": "text/x-python",
   "name": "python",
   "nbconvert_exporter": "python",
   "pygments_lexer": "ipython3",
   "version": "3.6.6"
  }
 },
 "nbformat": 4,
 "nbformat_minor": 2
}
