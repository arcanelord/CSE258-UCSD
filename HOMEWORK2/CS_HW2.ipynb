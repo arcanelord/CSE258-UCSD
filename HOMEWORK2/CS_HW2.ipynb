{
 "cells": [
  {
   "cell_type": "markdown",
   "metadata": {},
   "source": [
    "# Task 1"
   ]
  },
  {
   "cell_type": "code",
   "execution_count": 2,
   "metadata": {},
   "outputs": [
    {
     "name": "stdout",
     "output_type": "stream",
     "text": [
      "Collecting networkx\n",
      "Collecting decorator>=4.3.0 (from networkx)\n",
      "  Using cached https://files.pythonhosted.org/packages/bc/bb/a24838832ba35baf52f32ab1a49b906b5f82fb7c76b2f6a7e35e140bac30/decorator-4.3.0-py2.py3-none-any.whl\n",
      "Installing collected packages: decorator, networkx\n",
      "Successfully installed decorator-4.3.0 networkx-2.2\n"
     ]
    }
   ],
   "source": [
    "!pip3 install --user networkx\n",
    "import numpy\n",
    "from urllib.request import urlopen\n",
    "import scipy.optimize\n",
    "import random\n",
    "import ast\n",
    "from math import exp\n",
    "from math import log\n",
    "import networkx as nx\n",
    "import matplotlib.pyplot as plt\n",
    "import numpy\n",
    "import urllib\n",
    "import scipy.optimize\n",
    "import random\n",
    "from sklearn.decomposition import PCA\n",
    "from collections import defaultdict"
   ]
  },
  {
   "cell_type": "code",
   "execution_count": 3,
   "metadata": {},
   "outputs": [
    {
     "name": "stdout",
     "output_type": "stream",
     "text": [
      "Reading data...\n",
      "done\n"
     ]
    }
   ],
   "source": [
    "## import data\n",
    "def parseDataFromFile(fname):\n",
    "  for l in open(\"beer_50000.json\").read().splitlines():\n",
    "    yield ast.literal_eval(l)\n",
    "print (\"Reading data...\")\n",
    "data = list(parseDataFromFile(\"beer_50000.json\"))\n",
    "print (\"done\")"
   ]
  },
  {
   "cell_type": "code",
   "execution_count": 4,
   "metadata": {},
   "outputs": [],
   "source": [
    "## random data\n",
    "random.shuffle(data)\n",
    "\n",
    "## split\n",
    "training_data= data[:int(len(data)/3)]\n",
    "vali_data= data[int(len(data)/3):2*int(len(data)/3)]\n",
    "test_data= data[2*int(len(data)/3):]"
   ]
  },
  {
   "cell_type": "code",
   "execution_count": 5,
   "metadata": {},
   "outputs": [],
   "source": [
    "def feature(datum):\n",
    "  feat = [1, datum['review/taste'], datum['review/appearance'], datum['review/aroma'], datum['review/palate'], datum['review/overall']]\n",
    "  return feat\n",
    "\n",
    "X_train = [feature(d) for d in training_data]\n",
    "y_train = [d['beer/ABV'] >= 6.5 for d in training_data]\n",
    "\n",
    "X_vali = [feature(d) for d in vali_data]\n",
    "y_vali = [d['beer/ABV'] >= 6.5 for d in vali_data]\n",
    "\n",
    "X_test = [feature(d) for d in test_data]\n",
    "y_test = [d['beer/ABV'] >= 6.5 for d in test_data]\n",
    "\n",
    "\n",
    "def inner(x,y):\n",
    "  return sum([x[i]*y[i] for i in range(len(x))])\n",
    "\n",
    "def sigmoid(x):\n",
    "  return 1.0 / (1 + exp(-x))"
   ]
  },
  {
   "cell_type": "code",
   "execution_count": 6,
   "metadata": {},
   "outputs": [],
   "source": [
    "##################################################\n",
    "# Logistic regression by gradient ascent         #\n",
    "##################################################\n",
    "\n",
    "# NEGATIVE Log-likelihood\n",
    "def f(theta, X, y, lam):\n",
    "  loglikelihood = 0\n",
    "  for i in range(len(X)):\n",
    "    logit = inner(X[i], theta)\n",
    "    loglikelihood -= log(1 + exp(-logit))\n",
    "    if not y[i]:\n",
    "      loglikelihood -= logit\n",
    "  for k in range(len(theta)):\n",
    "    loglikelihood -= lam * theta[k]*theta[k]\n",
    "  # for debugging\n",
    "  # print(\"ll =\" + str(loglikelihood))\n",
    "  return -loglikelihood\n",
    "\n",
    "# NEGATIVE Derivative of log-likelihood\n",
    "def fprime(theta, X, y, lam):\n",
    "  dl = [0]*len(theta)\n",
    "  for i in range(len(X)):\n",
    "    logit = inner(X[i], theta)\n",
    "    for k in range(len(theta)):\n",
    "      dl[k] += X[i][k] * (1 - sigmoid(logit))\n",
    "      if not y[i]:\n",
    "        dl[k] -= X[i][k]\n",
    "  for k in range(len(theta)):\n",
    "    dl[k] -= lam*2*theta[k]\n",
    "  return numpy.array([-x for x in dl])\n",
    "\n",
    "##################################################\n",
    "# Train                                          #\n",
    "##################################################\n",
    "\n",
    "def train(lam):\n",
    "  theta,_,_ = scipy.optimize.fmin_l_bfgs_b(f, [0]*len(X_train[0]), fprime, pgtol = 10, args = (X_train, y_train, lam))\n",
    "  return theta\n",
    "\n",
    "##################################################\n",
    "# Predict                                        #\n",
    "##################################################\n",
    "\n",
    "def performance(theta, X, y):\n",
    "  scores = [inner(theta,x) for x in X]\n",
    "  predictions = [s > 0 for s in scores]\n",
    "  correct = [(a==b) for (a,b) in zip(predictions,y)]\n",
    "  acc = sum(correct) * 1.0 / len(correct)\n",
    "  return acc"
   ]
  },
  {
   "cell_type": "code",
   "execution_count": null,
   "metadata": {},
   "outputs": [],
   "source": []
  },
  {
   "cell_type": "markdown",
   "metadata": {},
   "source": [
    "### Q 1"
   ]
  },
  {
   "cell_type": "code",
   "execution_count": 7,
   "metadata": {},
   "outputs": [
    {
     "name": "stdout",
     "output_type": "stream",
     "text": [
      "lambda = 1.0:\taccuracy of train set=0.7205688227529101\n",
      "lambda = 1.0:\taccuracy of validation set=0.7206288251530061\n",
      "lambda = 1.0:\taccuracy of test set=0.7150227981761459\n"
     ]
    }
   ],
   "source": [
    "##################################################\n",
    "# Validation pipeline                            #\n",
    "##################################################\n",
    "\n",
    "lam = 1.0\n",
    "\n",
    "theta = train(lam)\n",
    "acc = performance(theta, X_train, y_train)\n",
    "print(\"lambda = \" + str(lam) + \":\\taccuracy of train set=\" + str(acc))\n",
    "\n",
    "acc = performance(theta, X_vali, y_vali)\n",
    "print(\"lambda = \" + str(lam) + \":\\taccuracy of validation set=\" + str(acc))\n",
    "\n",
    "acc = performance(theta, X_test, y_test)\n",
    "print(\"lambda = \" + str(lam) + \":\\taccuracy of test set=\" + str(acc))"
   ]
  },
  {
   "cell_type": "markdown",
   "metadata": {},
   "source": [
    "### Q 2"
   ]
  },
  {
   "cell_type": "code",
   "execution_count": 8,
   "metadata": {},
   "outputs": [],
   "source": [
    "def det_perf(theta, X, y):\n",
    "    scores = [inner(theta,x) for x in X]\n",
    "    predictions = [s > 0 for s in scores] # output TF\n",
    "    correct = [(a==b) for (a,b) in zip(predictions,y)]\n",
    "    P = predictions.count(True)\n",
    "    N = predictions.count(False)\n",
    "    TP = [(a*b) for (a,b) in zip(predictions,correct)]\n",
    "    TP = TP.count(1)\n",
    "    TN = [ ((1-a)*b) for (a,b) in zip(predictions,correct)]\n",
    "    TN = TN.count(1)\n",
    "    FP = abs(P- TP)\n",
    "    FN = abs(N- TN)\n",
    "    result = [P,N,TP,TN,FP,FN]\n",
    "    return result"
   ]
  },
  {
   "cell_type": "code",
   "execution_count": 9,
   "metadata": {},
   "outputs": [
    {
     "name": "stdout",
     "output_type": "stream",
     "text": [
      "Positive = 12368\tNegative=4300\tTruePositive=8963\tTrueNegative=2955\tFalsePositive=3405\tFalseNegative=1345\n"
     ]
    }
   ],
   "source": [
    "result_test = det_perf(theta, X_test, y_test)\n",
    "print(\"Positive = \" + str(result_test[0]) + \"\\tNegative=\" + str(result_test[1]) + \"\\tTruePositive=\" + str(result_test[2]) + \n",
    "      \"\\tTrueNegative=\" + str(result_test[3]) + \"\\tFalsePositive=\" + str(result_test[4]) + \"\\tFalseNegative=\" + str(result_test[5]))"
   ]
  },
  {
   "cell_type": "markdown",
   "metadata": {},
   "source": [
    "### Q 3"
   ]
  },
  {
   "cell_type": "markdown",
   "metadata": {},
   "source": [
    "If I want to assign greater importance to False Positives, then I will change the coefficient.\n",
    "\n",
    "Firstly, I will change the f function's for parts. I will devide them into four parts. Now they are devided into two parts   $$y[i] > 0$$ $$y[i] < 0$$\n",
    "\n",
    "I will add two judgment. So they will have four situation:$$y[i] > 0\\quad and\\quad X[i] \\cdot \\theta > 0$$\n",
    "$$y[i] > 0\\quad and\\quad X[i] \\cdot \\theta < 0$$\n",
    "$$y[i] < 0\\quad and\\quad X[i] \\cdot \\theta > 0$$\n",
    "$$y[i] < 0\\quad and\\quad X[i] \\cdot \\theta < 0$$\n",
    "\n",
    "Secondly, I will assign 10 times loglikelihood of the situation $y[i] < 0\\quad and\\quad X[i] \\cdot \\theta > 0$, which means False Positive.\n",
    "\n",
    "Thirdly, I will change the Derivative of log-likelihood correspondently. Add two more judgments and change the coefficient of the False Positive."
   ]
  },
  {
   "cell_type": "markdown",
   "metadata": {},
   "source": [
    "### Q 4"
   ]
  },
  {
   "cell_type": "code",
   "execution_count": 10,
   "metadata": {},
   "outputs": [
    {
     "name": "stdout",
     "output_type": "stream",
     "text": [
      "lambda = 0:\taccuracy of train set=0.7217088683547341\n",
      "lambda = 0:\taccuracy of validation set=0.7209288371534861\n"
     ]
    }
   ],
   "source": [
    "## lambda = 0\n",
    "lam = 0\n",
    "\n",
    "theta1 = train(lam)\n",
    "acc = performance(theta1, X_train, y_train)\n",
    "print(\"lambda = \" + str(lam) + \":\\taccuracy of train set=\" + str(acc))\n",
    "\n",
    "acc1 = performance(theta1, X_vali, y_vali)\n",
    "print(\"lambda = \" + str(lam) + \":\\taccuracy of validation set=\" + str(acc1))"
   ]
  },
  {
   "cell_type": "code",
   "execution_count": 11,
   "metadata": {},
   "outputs": [
    {
     "name": "stdout",
     "output_type": "stream",
     "text": [
      "lambda = 0.01:\taccuracy of train set=0.7217088683547341\n",
      "lambda = 0.01:\taccuracy of validation set=0.7209288371534861\n"
     ]
    }
   ],
   "source": [
    "## lambda = 0.01\n",
    "lam = 0.01\n",
    "\n",
    "theta2 = train(lam)\n",
    "acc = performance(theta2, X_train, y_train)\n",
    "print(\"lambda = \" + str(lam) + \":\\taccuracy of train set=\" + str(acc))\n",
    "\n",
    "acc2 = performance(theta2, X_vali, y_vali)\n",
    "print(\"lambda = \" + str(lam) + \":\\taccuracy of validation set=\" + str(acc2))"
   ]
  },
  {
   "cell_type": "code",
   "execution_count": 12,
   "metadata": {},
   "outputs": [
    {
     "name": "stdout",
     "output_type": "stream",
     "text": [
      "lambda = 0.1:\taccuracy of train set=0.7215288611544461\n",
      "lambda = 0.1:\taccuracy of validation set=0.7210488419536781\n"
     ]
    }
   ],
   "source": [
    "## lambda = 0.1\n",
    "lam = 0.1\n",
    "\n",
    "theta3 = train(lam)\n",
    "acc = performance(theta3, X_train, y_train)\n",
    "print(\"lambda = \" + str(lam) + \":\\taccuracy of train set=\" + str(acc))\n",
    "\n",
    "acc3 = performance(theta3, X_vali, y_vali)\n",
    "print(\"lambda = \" + str(lam) + \":\\taccuracy of validation set=\" + str(acc3))"
   ]
  },
  {
   "cell_type": "code",
   "execution_count": 13,
   "metadata": {},
   "outputs": [
    {
     "name": "stdout",
     "output_type": "stream",
     "text": [
      "lambda = 1:\taccuracy of train set=0.7205688227529101\n",
      "lambda = 1:\taccuracy of validation set=0.7206288251530061\n"
     ]
    }
   ],
   "source": [
    "## lambda = 1\n",
    "lam = 1\n",
    "\n",
    "theta4 = train(lam)\n",
    "acc = performance(theta4, X_train, y_train)\n",
    "print(\"lambda = \" + str(lam) + \":\\taccuracy of train set=\" + str(acc))\n",
    "\n",
    "acc4 = performance(theta4, X_vali, y_vali)\n",
    "print(\"lambda = \" + str(lam) + \":\\taccuracy of validation set=\" + str(acc4))"
   ]
  },
  {
   "cell_type": "code",
   "execution_count": 14,
   "metadata": {},
   "outputs": [
    {
     "name": "stdout",
     "output_type": "stream",
     "text": [
      "lambda = 100:\taccuracy of train set=0.6728669146765871\n",
      "lambda = 100:\taccuracy of validation set=0.6689067562702508\n"
     ]
    }
   ],
   "source": [
    "## lambda = 100\n",
    "lam = 100\n",
    "\n",
    "theta5 = train(lam)\n",
    "acc = performance(theta5, X_train, y_train)\n",
    "print(\"lambda = \" + str(lam) + \":\\taccuracy of train set=\" + str(acc))\n",
    "\n",
    "acc5 = performance(theta5, X_vali, y_vali)\n",
    "print(\"lambda = \" + str(lam) + \":\\taccuracy of validation set=\" + str(acc5))"
   ]
  },
  {
   "cell_type": "markdown",
   "metadata": {},
   "source": [
    "According to the accracy shown above:\n",
    "\n",
    "the theta with best accracy is $\\theta_4$, when $\\lambda$ equals 1.\n",
    "    \n",
    "For the performance on the test set."
   ]
  },
  {
   "cell_type": "code",
   "execution_count": 15,
   "metadata": {},
   "outputs": [
    {
     "name": "stdout",
     "output_type": "stream",
     "text": [
      "lambda = 1:\taccuracy of test set=0.7150227981761459\n"
     ]
    }
   ],
   "source": [
    "lam = 1\n",
    "acc = performance(theta4, X_test, y_test)\n",
    "print(\"lambda = \" + str(lam) + \":\\taccuracy of test set=\" + str(acc))"
   ]
  },
  {
   "cell_type": "markdown",
   "metadata": {},
   "source": [
    "# Task 2"
   ]
  },
  {
   "cell_type": "markdown",
   "metadata": {},
   "source": [
    "### Q 5"
   ]
  },
  {
   "cell_type": "code",
   "execution_count": 16,
   "metadata": {},
   "outputs": [],
   "source": [
    "with open('egonet.txt', 'r') as f2:\n",
    "    data = f2.read()\n",
    "ego_list = [x for x in data.split('\\n')]\n",
    "ego_list.remove('')"
   ]
  },
  {
   "cell_type": "code",
   "execution_count": 17,
   "metadata": {},
   "outputs": [],
   "source": [
    "edges = set()\n",
    "nodes = set()\n",
    "a = list()\n",
    "for edge in ego_list:\n",
    "  x,y = edge.split(' ')\n",
    "  x,y = int(x),int(y)\n",
    "  edges.add((x,y))\n",
    "  edges.add((y,x))\n",
    "  nodes.add(x)\n",
    "  nodes.add(y)"
   ]
  },
  {
   "cell_type": "code",
   "execution_count": 18,
   "metadata": {},
   "outputs": [
    {
     "data": {
      "image/png": "[encoded data removed]",
      "text/plain": [
       "<Figure size 432x288 with 1 Axes>"
      ]
     },
     "metadata": {},
     "output_type": "display_data"
    },
    {
     "data": {
      "text/plain": [
       "<Figure size 432x288 with 0 Axes>"
      ]
     },
     "metadata": {},
     "output_type": "display_data"
    }
   ],
   "source": [
    "G = nx.Graph()\n",
    "for e in edges:\n",
    "  G.add_edge(e[0],e[1])\n",
    "nx.draw(G)\n",
    "plt.show()\n",
    "plt.clf()"
   ]
  },
  {
   "cell_type": "code",
   "execution_count": 19,
   "metadata": {},
   "outputs": [
    {
     "name": "stdout",
     "output_type": "stream",
     "text": [
      "3\n"
     ]
    }
   ],
   "source": [
    "# Get the number of connected components\n",
    "num_components = nx.number_connected_components(G)\n",
    "print(num_components)"
   ]
  },
  {
   "cell_type": "code",
   "execution_count": 20,
   "metadata": {},
   "outputs": [
    {
     "name": "stdout",
     "output_type": "stream",
     "text": [
      "40\n"
     ]
    }
   ],
   "source": [
    "# Get the number of nodes in the largest connected component\n",
    "G_large = max(nx.connected_components(G), key = len)  ####question???\n",
    "num_nodes_large = len(G_large)\n",
    "print(num_nodes_large)"
   ]
  },
  {
   "cell_type": "markdown",
   "metadata": {},
   "source": [
    "### Q 6"
   ]
  },
  {
   "cell_type": "code",
   "execution_count": 61,
   "metadata": {},
   "outputs": [],
   "source": [
    "GL= max(nx.connected_component_subgraphs(G), key = len)"
   ]
  },
  {
   "cell_type": "code",
   "execution_count": 187,
   "metadata": {},
   "outputs": [],
   "source": [
    "G_set = list(GL.nodes())\n",
    "G_set.sort()"
   ]
  },
  {
   "cell_type": "code",
   "execution_count": 63,
   "metadata": {},
   "outputs": [],
   "source": [
    "c1=list()\n",
    "c2=list()\n",
    "for i in range(int(len(G_set))):\n",
    "    if i < int(len(G_set)/2):\n",
    "        c1.append(G_set[i])\n",
    "    else:\n",
    "        c2.append(G_set[i])"
   ]
  },
  {
   "cell_type": "code",
   "execution_count": 64,
   "metadata": {},
   "outputs": [],
   "source": [
    "N_cut = (nx.cut_size(GL, c1, c2)/sum([GL.degree(v) for v in c1])+nx.cut_size(GL, c1, c2)/sum([GL.degree(v) for v in c2]))/2"
   ]
  },
  {
   "cell_type": "code",
   "execution_count": 58,
   "metadata": {},
   "outputs": [
    {
     "data": {
      "text/plain": [
       "0.42240587695133147"
      ]
     },
     "execution_count": 58,
     "metadata": {},
     "output_type": "execute_result"
    }
   ],
   "source": [
    "N_cut"
   ]
  },
  {
   "cell_type": "markdown",
   "metadata": {},
   "source": [
    "### Q 7"
   ]
  },
  {
   "cell_type": "code",
   "execution_count": 188,
   "metadata": {},
   "outputs": [
    {
     "name": "stdout",
     "output_type": "stream",
     "text": [
      "[697, 703, 708, 713, 719, 745, 747, 753, 769, 772, 774, 798, 800, 803, 804, 805, 810, 811, 819]\n",
      "[823, 825, 828, 830, 840, 856, 861, 863, 864, 869, 876, 878, 880, 882, 884, 886, 888, 889, 890, 893, 729]\n",
      "[697, 703, 708, 713, 719, 745, 747, 753, 769, 772, 774, 798, 800, 803, 805, 810, 811, 819]\n",
      "[823, 825, 828, 830, 840, 856, 861, 863, 864, 869, 876, 878, 880, 882, 884, 886, 888, 889, 890, 893, 729, 804]\n",
      "[697, 703, 708, 713, 719, 745, 747, 753, 769, 772, 774, 798, 800, 803, 805, 810, 811, 819, 729]\n",
      "[823, 825, 828, 830, 840, 856, 861, 863, 864, 869, 876, 878, 880, 882, 884, 886, 888, 889, 890, 893, 804]\n",
      "[697, 703, 708, 713, 719, 745, 747, 753, 769, 772, 774, 798, 800, 803, 805, 810, 811, 819]\n",
      "[823, 825, 828, 830, 840, 856, 861, 863, 864, 869, 876, 878, 880, 882, 884, 886, 888, 889, 890, 893, 804, 729]\n",
      "We need to Iterate for 3 times and our best normalized cut cost is  0.3068340306834031\n"
     ]
    }
   ],
   "source": [
    "## initial\n",
    "c1=list()\n",
    "c2=list()\n",
    "for i in range(int(len(G_set))):\n",
    "    if i < int(len(G_set)/2):\n",
    "        c1.append(G_set[i])\n",
    "    else:\n",
    "        c2.append(G_set[i])\n",
    "        \n",
    "def N_cut(c1,c2):\n",
    "    N = (nx.cut_size(GL, c1, c2)/sum([GL.degree(v) for v in c1])+nx.cut_size(GL, c1, c2)/sum([GL.degree(v) for v in c2]))/2\n",
    "    return N\n",
    "\n",
    "\n",
    "## greedy \n",
    "\n",
    "norcut=list([1,0.9])\n",
    "n = -1\n",
    "while norcut[-2] - norcut[-1] >= 0:\n",
    "    c3=list()\n",
    "    \n",
    "    for i in range(len(c1)):\n",
    "        c4, c5= c1, c2\n",
    "        com = c4[i]\n",
    "        c5.append(c4[i])\n",
    "        del c4[i]\n",
    "        c3.append(N_cut(c4,c5))\n",
    "        c1.insert(i,com)\n",
    "        c2.pop()\n",
    "    for i in range(len(c2)):\n",
    "        c4, c5= c1, c2\n",
    "        com = c5[i]\n",
    "        c4.append(c5[i])\n",
    "        del c5[i]\n",
    "        c3.append(N_cut(c4,c5))\n",
    "        c2.insert(i,com)\n",
    "        c1.pop()\n",
    "    norcut.append(min(c3))\n",
    "    n= n+1\n",
    "    \n",
    "    if c3.index(min(c3)) <= 19:\n",
    "        c2.append(c1[c3.index(min(c3))])\n",
    "        del c1[c3.index(min(c3))]\n",
    "        print(c1)\n",
    "        print(c2)\n",
    "    else:\n",
    "        c1.append(c2[c3.index(min(c3))])\n",
    "        del c2[c3.index(min(c3))]\n",
    "        print(c1)\n",
    "        print(c2)\n",
    "print('We need to Iterate for '+str(n)+' times and our best normalized cut cost is  ' + str(norcut[-2]))"
   ]
  },
  {
   "cell_type": "markdown",
   "metadata": {},
   "source": [
    "And the best way to split this is \n",
    "\n",
    "[697, 703, 708, 713, 719, 745, 747, 753, 769, 772, 774, 798, 800, 803, 805, 810, 811, 819, 729]\n",
    "\n",
    "[823, 825, 828, 830, 840, 856, 861, 863, 864, 869, 876, 878, 880, 882, 884, 886, 888, 889, 890, 893, 804]"
   ]
  },
  {
   "cell_type": "markdown",
   "metadata": {},
   "source": [
    "### Q 8"
   ]
  },
  {
   "cell_type": "code",
   "execution_count": 78,
   "metadata": {},
   "outputs": [
    {
     "data": {
      "text/plain": [
       "True"
      ]
     },
     "execution_count": 78,
     "metadata": {},
     "output_type": "execute_result"
    }
   ],
   "source": [
    "norcut[-2] - norcut[-1] >= 0"
   ]
  },
  {
   "cell_type": "code",
   "execution_count": 29,
   "metadata": {},
   "outputs": [],
   "source": [
    "c9 =[825,861,863,864,876,878,882,884,886,888,889,893,729,804]"
   ]
  },
  {
   "cell_type": "code",
   "execution_count": 35,
   "metadata": {},
   "outputs": [],
   "source": [
    "c8 =[697,703,708,713,719,745,747,769,772,774,798,800,805,810,811,819,828,830,823,840,880,803,869,890,753,856]"
   ]
  },
  {
   "cell_type": "code",
   "execution_count": 189,
   "metadata": {},
   "outputs": [],
   "source": [
    "c10 = c8.copy()"
   ]
  },
  {
   "cell_type": "code",
   "execution_count": 190,
   "metadata": {},
   "outputs": [
    {
     "data": {
      "text/plain": [
       "[697,\n",
       " 703,\n",
       " 708,\n",
       " 713,\n",
       " 719,\n",
       " 745,\n",
       " 747,\n",
       " 769,\n",
       " 772,\n",
       " 774,\n",
       " 798,\n",
       " 800,\n",
       " 805,\n",
       " 810,\n",
       " 811,\n",
       " 819,\n",
       " 828,\n",
       " 830,\n",
       " 823,\n",
       " 840,\n",
       " 880,\n",
       " 803,\n",
       " 869,\n",
       " 890,\n",
       " 753,\n",
       " 856]"
      ]
     },
     "execution_count": 190,
     "metadata": {},
     "output_type": "execute_result"
    }
   ],
   "source": [
    "c10"
   ]
  },
  {
   "cell_type": "code",
   "execution_count": 191,
   "metadata": {},
   "outputs": [],
   "source": [
    "del c10[0]"
   ]
  },
  {
   "cell_type": "code",
   "execution_count": 192,
   "metadata": {},
   "outputs": [
    {
     "data": {
      "text/plain": [
       "26"
      ]
     },
     "execution_count": 192,
     "metadata": {},
     "output_type": "execute_result"
    }
   ],
   "source": [
    "len(c8)"
   ]
  }
 ],
 "metadata": {
  "kernelspec": {
   "display_name": "Python 3",
   "language": "python",
   "name": "python3"
  },
  "language_info": {
   "codemirror_mode": {
    "name": "ipython",
    "version": 3
   },
   "file_extension": ".py",
   "mimetype": "text/x-python",
   "name": "python",
   "nbconvert_exporter": "python",
   "pygments_lexer": "ipython3",
   "version": "3.6.6"
  }
 },
 "nbformat": 4,
 "nbformat_minor": 2
}
